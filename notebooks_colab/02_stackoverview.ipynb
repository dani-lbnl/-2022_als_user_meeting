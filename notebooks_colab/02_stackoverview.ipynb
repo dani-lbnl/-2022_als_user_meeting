{
  "cells": [
    {
      "cell_type": "markdown",
      "metadata": {
        "id": "zQX_pbrqp4dD"
      },
      "source": [
        "# ALS User Meeting 2022\n",
        "This notebook describes methods to extract key information from microCT image stacks\n",
        "- Create image montage\n",
        "- Access slices evenly spaced\n",
        "- Play slices like a video\n",
        "\n",
        "Created by Dani Ushizima, CAMERA, LBNL - Aug 1st 2022\n"
      ]
    },
    {
      "cell_type": "code",
      "execution_count": null,
      "metadata": {
        "id": "ljQkOVVBp4dr"
      },
      "outputs": [],
      "source": [
        "%matplotlib inline"
      ]
    },
    {
      "cell_type": "code",
      "execution_count": null,
      "metadata": {
        "id": "rK8crVOZp4dt"
      },
      "outputs": [],
      "source": [
        "import numpy as np\n",
        "import matplotlib.pyplot as plt\n",
        "from skimage import filters, morphology, io\n",
        "from glob import glob\n"
      ]
    },
    {
      "cell_type": "markdown",
      "metadata": {
        "id": "h2gAaRFMp4dt"
      },
      "source": [
        "# 1. Read a microct image\n",
        "- from url\n",
        "- from NERSC\n",
        "- from Google drive"
      ]
    },
    {
      "cell_type": "markdown",
      "source": [
        "## Read from NERSC\n",
        "- discard this portion if running in Colab"
      ],
      "metadata": {
        "id": "eLQU6rysvkNM"
      }
    },
    {
      "cell_type": "code",
      "source": [
        "datapath = \"/global/cfs/cdirs/als/users/yourname/yourdata/\" #update these values\n",
        "!ls -lt \"$datapath\""
      ],
      "metadata": {
        "id": "ynDYMCuosjtW"
      },
      "execution_count": null,
      "outputs": []
    },
    {
      "cell_type": "code",
      "source": [
        "image = io.imread(datapath+'bead_pack.tif')"
      ],
      "metadata": {
        "id": "_VOYXLV4HeVm"
      },
      "execution_count": null,
      "outputs": []
    },
    {
      "cell_type": "markdown",
      "source": [
        "## Read from Google drive \n",
        "- discard this portion if running at NERSC"
      ],
      "metadata": {
        "id": "k_kA76WbuNXL"
      }
    },
    {
      "cell_type": "code",
      "source": [
        "from google.colab import drive\n",
        "drive.mount('/content/drive')"
      ],
      "metadata": {
        "id": "f3droixgrA42"
      },
      "execution_count": null,
      "outputs": []
    },
    {
      "cell_type": "code",
      "source": [
        "datapath = \"/content/drive/My Drive/Colab Notebooks/ALS User Meeting 2022 colab/data/\"\n",
        "!ls -lt \"$datapath\""
      ],
      "metadata": {
        "id": "DaHyN6AcuMxD"
      },
      "execution_count": null,
      "outputs": []
    },
    {
      "cell_type": "markdown",
      "source": [
        "## Read a multi-tiff file"
      ],
      "metadata": {
        "id": "SDv3ucb9-FjQ"
      }
    },
    {
      "cell_type": "code",
      "source": [
        "def loadFileNames(path,extension):\n",
        "  ''' Return filename after using colab files.upload - work for 1 file'''\n",
        "  fnames = glob(path+extension)\n",
        "  fnames.sort()\n",
        "  print(path);\n",
        "  print(f\"Number of files: {len(fnames)}\")\n",
        "  return fnames"
      ],
      "metadata": {
        "id": "6wUSe4qFibyk"
      },
      "execution_count": null,
      "outputs": []
    },
    {
      "cell_type": "code",
      "source": [
        "extension = '*tif'\n",
        "fnames = loadFileNames(datapath+'concrete/',extension)"
      ],
      "metadata": {
        "id": "vCyRv4tziN8C"
      },
      "execution_count": null,
      "outputs": []
    },
    {
      "cell_type": "markdown",
      "source": [
        "# 2. How to create an image montage?\n",
        "- 3x3\n",
        "- with all your slices"
      ],
      "metadata": {
        "id": "i9rkfOe8ym3n"
      }
    },
    {
      "cell_type": "code",
      "source": [
        "def montage(path,extension,save=False):\n",
        "        '''Create montage 3x3 '''\n",
        "        files = loadFileNames(path, extension)\n",
        "        nfiles = len(files)\n",
        "        fig, axes = plt.subplots(3, 3, figsize=(10, 10))\n",
        "        #Plotting subset of slices evenly spaced\n",
        "        islices = np.linspace(0,nfiles-1,9,dtype=int)\n",
        "        islices = islices.astype(int)\n",
        "        for i, n in enumerate(islices):\n",
        "            img = io.imread(files[n])\n",
        "            xy = np.unravel_index(i, (3,3))\n",
        "            axes[xy].imshow(img,cmap='gray')\n",
        "            axes[xy].set_title('Slice %i'% n)\n",
        "            axes[xy].set_axis_off()\n",
        "            #fig.subplots_adjust( wspace = -0.1,  hspace = 0.1 )    \n",
        "        if(save):\n",
        "            fig.savefig(path+'MyMontage.png')\n",
        "            print('Saved@ '+path+'MyMontage.png')"
      ],
      "metadata": {
        "id": "8UWyicAQUdoG"
      },
      "execution_count": null,
      "outputs": []
    },
    {
      "cell_type": "code",
      "source": [
        "montage(datapath+'concrete/',extension)"
      ],
      "metadata": {
        "id": "69j1Mfi2mnWd"
      },
      "execution_count": null,
      "outputs": []
    },
    {
      "cell_type": "code",
      "source": [
        "def readAndShowMosaic(path,extension):\n",
        "  '''Read and show ALL images from a folder\n",
        "     Warning: if nfiles too large, select subset of files\n",
        "  '''\n",
        "  files = loadFileNames(path, extension)\n",
        "  nfiles = len(files)\n",
        "  y = np.ceil(np.sqrt(nfiles)).astype('int')\n",
        "  x = np.ceil(nfiles/y).astype('int')\n",
        "  f, ax = plt.subplots(x, y, figsize=(20, 20))\n",
        "  \n",
        "  for i,axi in enumerate(ax.flatten()[0:nfiles]):\n",
        "    img = io.imread(files[i])\n",
        "    fileCore = str.split(files[i],'/')[-1]\n",
        "    fileCore = str.split(fileCore,'.')[0]\n",
        "    axi.imshow(img[::10,::10],cmap='inferno')\n",
        "    axi.set_axis_off()\n",
        "    axi.set_title(fileCore)"
      ],
      "metadata": {
        "id": "v2HzBuyhiN5S"
      },
      "execution_count": null,
      "outputs": []
    },
    {
      "cell_type": "code",
      "source": [
        "readAndShowMosaic(datapath+'concrete/',extension)"
      ],
      "metadata": {
        "id": "Mdirir4MiN-v"
      },
      "execution_count": null,
      "outputs": []
    },
    {
      "cell_type": "markdown",
      "source": [
        "## Play your stack"
      ],
      "metadata": {
        "id": "NrvMtnZXr8KA"
      }
    },
    {
      "cell_type": "code",
      "source": [
        "!pip install --upgrade plotly"
      ],
      "metadata": {
        "id": "YkVUdnb_pSP9"
      },
      "execution_count": null,
      "outputs": []
    },
    {
      "cell_type": "code",
      "source": [
        "ic = io.ImageCollection(fnames,conserve_memory=True)\n",
        "fullstack = ic[0:10].concatenate() #warning: this step might require a lot of mem with your data"
      ],
      "metadata": {
        "id": "D326Ch62sfL2"
      },
      "execution_count": null,
      "outputs": []
    },
    {
      "cell_type": "code",
      "source": [
        "import plotly.express as px\n",
        "downsample = 2 \n",
        "fig = px.imshow( fullstack[:,::downsample,::downsample] , animation_frame=0, binary_string=True, labels=dict(animation_frame=\"microct slice\"))\n",
        "fig.show()"
      ],
      "metadata": {
        "id": "kshCagTBsRfG"
      },
      "execution_count": null,
      "outputs": []
    },
    {
      "cell_type": "code",
      "source": [
        ""
      ],
      "metadata": {
        "id": "M-m4Xic1sRhq"
      },
      "execution_count": null,
      "outputs": []
    }
  ],
  "metadata": {
    "kernelspec": {
      "display_name": "Python 3",
      "language": "python",
      "name": "python3"
    },
    "language_info": {
      "codemirror_mode": {
        "name": "ipython",
        "version": 3
      },
      "file_extension": ".py",
      "mimetype": "text/x-python",
      "name": "python",
      "nbconvert_exporter": "python",
      "pygments_lexer": "ipython3",
      "version": "3.7.7"
    },
    "toc": {
      "base_numbering": 1,
      "nav_menu": {},
      "number_sections": true,
      "sideBar": true,
      "skip_h1_title": false,
      "title_cell": "Table of Contents",
      "title_sidebar": "Contents",
      "toc_cell": false,
      "toc_position": {},
      "toc_section_display": true,
      "toc_window_display": false
    },
    "colab": {
      "name": "02_stackoverview.ipynb",
      "provenance": [],
      "collapsed_sections": []
    }
  },
  "nbformat": 4,
  "nbformat_minor": 0
}