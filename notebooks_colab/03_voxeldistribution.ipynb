{
  "cells": [
    {
      "cell_type": "markdown",
      "metadata": {
        "id": "zQX_pbrqp4dD"
      },
      "source": [
        "# ALS User Meeting 2022\n",
        "This notebook describes methods to extract key information from microCT image stacks\n",
        "- Histograms\n",
        "- Alternative interactive tools and hist\n",
        "- Maximum intensity projection\n",
        "- Largest connected component\n",
        "\n",
        "Created by Dani Ushizima, CAMERA, LBNL - Aug 1st 2022\n"
      ]
    },
    {
      "cell_type": "code",
      "execution_count": null,
      "metadata": {
        "id": "ljQkOVVBp4dr"
      },
      "outputs": [],
      "source": [
        "%matplotlib inline"
      ]
    },
    {
      "cell_type": "code",
      "execution_count": null,
      "metadata": {
        "id": "rK8crVOZp4dt"
      },
      "outputs": [],
      "source": [
        "import numpy as np\n",
        "from scipy import ndimage as ndi\n",
        "import fnmatch,os\n",
        "import matplotlib.pyplot as plt\n",
        "from glob import glob\n",
        "\n",
        "from skimage import img_as_ubyte, filters, morphology, exposure, io\n",
        "from skimage.filters import threshold_isodata\n",
        "from skimage.transform import pyramid_expand\n",
        "from skimage.measure import regionprops,label\n"
      ]
    },
    {
      "cell_type": "markdown",
      "metadata": {
        "id": "h2gAaRFMp4dt"
      },
      "source": [
        "# 1. Read a microct image\n",
        "- from url\n",
        "- from NERSC\n",
        "- from Google drive"
      ]
    },
    {
      "cell_type": "markdown",
      "source": [
        "## Read from NERSC\n",
        "- discard this portion if running in Colab"
      ],
      "metadata": {
        "id": "eLQU6rysvkNM"
      }
    },
    {
      "cell_type": "code",
      "source": [
        "datapath = \"/global/cfs/cdirs/als/users/yourname/yourdata/\" #update these values\n",
        "!ls -lt \"$datapath\""
      ],
      "metadata": {
        "id": "ynDYMCuosjtW"
      },
      "execution_count": null,
      "outputs": []
    },
    {
      "cell_type": "code",
      "source": [
        "image = io.imread(datapath+'bead_pack.tif')"
      ],
      "metadata": {
        "id": "_VOYXLV4HeVm"
      },
      "execution_count": null,
      "outputs": []
    },
    {
      "cell_type": "markdown",
      "source": [
        "## Read from Google drive \n",
        "- discard this portion if running at NERSC"
      ],
      "metadata": {
        "id": "k_kA76WbuNXL"
      }
    },
    {
      "cell_type": "code",
      "source": [
        "from google.colab import drive\n",
        "drive.mount('/content/drive')"
      ],
      "metadata": {
        "id": "f3droixgrA42"
      },
      "execution_count": null,
      "outputs": []
    },
    {
      "cell_type": "code",
      "source": [
        "datapath = \"/content/drive/My Drive/Colab Notebooks/ALS User Meeting 2022 colab/data/\"\n",
        "!ls -lt \"$datapath\""
      ],
      "metadata": {
        "id": "DaHyN6AcuMxD"
      },
      "execution_count": null,
      "outputs": []
    },
    {
      "cell_type": "code",
      "source": [
        "def loadFileNames(path,extension):\n",
        "  ''' Return filename after using colab files.upload - work for 1 file'''\n",
        "  fnames = glob(path+extension)\n",
        "  fnames.sort()\n",
        "  print(path);\n",
        "  print(f\"Number of files: {len(fnames)}\")\n",
        "  return fnames"
      ],
      "metadata": {
        "id": "6wUSe4qFibyk"
      },
      "execution_count": null,
      "outputs": []
    },
    {
      "cell_type": "code",
      "source": [
        "extension = '*tif'\n",
        "files = loadFileNames(datapath+'concrete/',extension)"
      ],
      "metadata": {
        "id": "vCyRv4tziN8C"
      },
      "execution_count": null,
      "outputs": []
    },
    {
      "cell_type": "markdown",
      "source": [
        "# 2. Image histograms\n",
        "- histogram of a single slice\n",
        "- histogram per slice for stack\n",
        "- histogram of full stack "
      ],
      "metadata": {
        "id": "i9rkfOe8ym3n"
      }
    },
    {
      "cell_type": "code",
      "source": [
        "def seeHistOneSlice(aSlice):\n",
        "        '''See the histogram of a particular slice after its masking, followed by enhancement'''\n",
        "        hist, hist_centers = exposure.histogram(aSlice)\n",
        "        fig, ax = plt.subplots(ncols=2, figsize=(10, 5))\n",
        "\n",
        "        ax[0].imshow(aSlice, cmap=plt.cm.gray, vmin=np.min(aSlice), vmax=np.max(aSlice))\n",
        "        ax[0].set_title('One Slice')\n",
        "        ax[0].axis('off')\n",
        "\n",
        "        ax[1].plot(hist_centers, hist, lw=2)\n",
        "        ax[1].set_title('Histogram of grey values')\n",
        "        ax[1].grid()\n",
        "\n",
        "        plt.tight_layout()"
      ],
      "metadata": {
        "id": "8UWyicAQUdoG"
      },
      "execution_count": null,
      "outputs": []
    },
    {
      "cell_type": "code",
      "source": [
        "n = 5\n",
        "aslice = io.imread(files[n])\n",
        "seeHistOneSlice(aslice)"
      ],
      "metadata": {
        "id": "69j1Mfi2mnWd"
      },
      "execution_count": null,
      "outputs": []
    },
    {
      "cell_type": "code",
      "source": [
        "#Load full stack - if too large, you can modify functions below to read one slice at a time\n",
        "ic = io.ImageCollection(files,conserve_memory=True)\n",
        "fullstack = ic[0:10].concatenate()"
      ],
      "metadata": {
        "id": "PRzLo9RwxJlL"
      },
      "execution_count": null,
      "outputs": []
    },
    {
      "cell_type": "code",
      "source": [
        "hist, hist_centers = exposure.histogram(fullstack)\n",
        "plt.plot(hist_centers, hist, lw=2)\n",
        "plt.title('Histogram for full stack')\n",
        "plt.grid()"
      ],
      "metadata": {
        "id": "xrm-6zfMyVv_"
      },
      "execution_count": null,
      "outputs": []
    },
    {
      "cell_type": "markdown",
      "source": [
        "## What if visualizing hist per slice?"
      ],
      "metadata": {
        "id": "0OSRwfVnyWJ8"
      }
    },
    {
      "cell_type": "code",
      "source": [
        "#Scroll through stack as with plotly, usually faster this way\n",
        "from ipywidgets import interact,IntSlider\n",
        "\n",
        "def slicer(z):\n",
        "    plt.imshow(fullstack[z,:,:], cmap='hot')"
      ],
      "metadata": {
        "id": "BabOl-a8yRWp"
      },
      "execution_count": null,
      "outputs": []
    },
    {
      "cell_type": "code",
      "source": [
        "maxz,_,_ = fullstack.shape\n",
        "interact(slicer, z=IntSlider(min=0, max=maxz, step=1, value=maxz//2));"
      ],
      "metadata": {
        "id": "yibMrDNUyquK"
      },
      "execution_count": null,
      "outputs": []
    },
    {
      "cell_type": "code",
      "source": [
        "#Scroll through stack and visualize histogram\n",
        "def seeHistSlice(img,nslice):\n",
        "    subimage = img[nslice,:,:]\n",
        "    hist = np.histogram(subimage, bins=np.arange(subimage.min(), subimage.max()))\n",
        "\n",
        "    fig, ax = plt.subplots(ncols=2, figsize=(10, 5))\n",
        "\n",
        "    ax[0].imshow(subimage, interpolation='nearest', cmap=plt.cm.gray)\n",
        "    ax[0].axis('off')\n",
        "    ax[0].set_title('Slice #'+str(nslice))\n",
        "\n",
        "    ax[1].plot(hist[1][:-1], hist[0], lw=1)\n",
        "    ax[1].set_title('Histogram of gray values')\n",
        "    ax[1].grid()\n",
        "    plt.tight_layout()\n",
        "\n",
        "def slicingHist(b):\n",
        "    def slicer(z):\n",
        "        seeHistSlice(b,z)\n",
        "    interact(slicer, z=IntSlider(min=0,max=len(b)-1,step=1,value=len(b)//2));    "
      ],
      "metadata": {
        "id": "pLQIwf96zimW"
      },
      "execution_count": null,
      "outputs": []
    },
    {
      "cell_type": "code",
      "source": [
        "slicingHist(fullstack)"
      ],
      "metadata": {
        "id": "UVL8RSc91vwV"
      },
      "execution_count": null,
      "outputs": []
    },
    {
      "cell_type": "markdown",
      "metadata": {
        "id": "B9pn4__0p4dx"
      },
      "source": [
        "# 3. Maximum Intensity Projection (MIP)\n",
        "[link paper](https://www.cambridge.org/core/journals/mrs-advances/article/abs/materials-data-science-for-microstructural-characterization-of-archaeological-concrete/AEB1323101655FEA3B166296F92708BC)"
      ]
    },
    {
      "cell_type": "code",
      "source": [
        "def maxProjection(stack,ndown):\n",
        "        #max projection aka. z-max\n",
        "        IM_MAX = stack[0,::ndown,::ndown]\n",
        "        nslices,_,_ = stack.shape\n",
        "        for n in np.arange(1,nslices,ndown): #ndown here for low variation on Z\n",
        "            IM_MAX = np.maximum(IM_MAX, (stack[n,::ndown,::ndown]))\n",
        "        return IM_MAX    "
      ],
      "metadata": {
        "id": "HdgXCDGs4HZf"
      },
      "execution_count": null,
      "outputs": []
    },
    {
      "cell_type": "code",
      "source": [
        "maxProjectionfullstack = maxProjection(fullstack,ndown=1)\n",
        "plt.imshow(maxProjectionfullstack,cmap='plasma')\n",
        "plt.colorbar()"
      ],
      "metadata": {
        "id": "yYe92_n54Hcv"
      },
      "execution_count": null,
      "outputs": []
    },
    {
      "cell_type": "code",
      "source": [
        "seeHistOneSlice(maxProjectionfullstack)"
      ],
      "metadata": {
        "id": "x0CO1WWt4Hfg"
      },
      "execution_count": null,
      "outputs": []
    },
    {
      "cell_type": "code",
      "source": [
        "plt.imshow(maxProjectionfullstack>100,cmap='gray')\n",
        "plt.title('Could we use it for masking the ROI?')"
      ],
      "metadata": {
        "id": "gwSG4oPK5o4w"
      },
      "execution_count": null,
      "outputs": []
    },
    {
      "cell_type": "markdown",
      "source": [
        "## Determine largest connected component\n",
        "- if slices have common center, MIP can help determine ROI\n",
        "- calculating a mask\n",
        "- masking a slice"
      ],
      "metadata": {
        "id": "xNcvhxbR7M_A"
      }
    },
    {
      "cell_type": "code",
      "source": [
        "def getLargestCC(segments):\n",
        "        '''Return the largest connected component from image'''\n",
        "        labels = label(segments)\n",
        "        largestCC = labels == np.argmax(np.bincount(labels.flat, weights=segments.flat))\n",
        "        return largestCC"
      ],
      "metadata": {
        "id": "6gHWYrt_6HMW"
      },
      "execution_count": null,
      "outputs": []
    },
    {
      "cell_type": "code",
      "source": [
        "lcc = getLargestCC(maxProjectionfullstack>100)"
      ],
      "metadata": {
        "id": "0lzdUJTE6ru1"
      },
      "execution_count": null,
      "outputs": []
    },
    {
      "cell_type": "code",
      "source": [
        "plt.imshow(lcc,cmap='gray')"
      ],
      "metadata": {
        "id": "rCt9qfnq6rsF"
      },
      "execution_count": null,
      "outputs": []
    },
    {
      "cell_type": "code",
      "source": [
        "plt.imshow(aslice*lcc)\n",
        "plt.title('Mask slice using MIP')"
      ],
      "metadata": {
        "id": "Gn-zVcGC8tM0"
      },
      "execution_count": null,
      "outputs": []
    }
  ],
  "metadata": {
    "kernelspec": {
      "display_name": "Python 3",
      "language": "python",
      "name": "python3"
    },
    "language_info": {
      "codemirror_mode": {
        "name": "ipython",
        "version": 3
      },
      "file_extension": ".py",
      "mimetype": "text/x-python",
      "name": "python",
      "nbconvert_exporter": "python",
      "pygments_lexer": "ipython3",
      "version": "3.7.7"
    },
    "toc": {
      "base_numbering": 1,
      "nav_menu": {},
      "number_sections": true,
      "sideBar": true,
      "skip_h1_title": false,
      "title_cell": "Table of Contents",
      "title_sidebar": "Contents",
      "toc_cell": false,
      "toc_position": {},
      "toc_section_display": true,
      "toc_window_display": false
    },
    "colab": {
      "name": "03_voxeldistribution.ipynb",
      "provenance": [],
      "collapsed_sections": []
    }
  },
  "nbformat": 4,
  "nbformat_minor": 0
}