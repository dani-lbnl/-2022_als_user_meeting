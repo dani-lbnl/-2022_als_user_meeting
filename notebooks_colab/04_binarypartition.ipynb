{
  "cells": [
    {
      "cell_type": "markdown",
      "metadata": {
        "id": "zQX_pbrqp4dD"
      },
      "source": [
        "# ALS User Meeting 2022\n",
        "This notebook describes methods to extract key information from microCT image stacks\n",
        "- Thresholding techniques\n",
        "- Image enhancing techniques\n",
        "- Differential operators for edge detection\n",
        "\n",
        "Created by Dani Ushizima, CAMERA, LBNL - Aug 1st 2022\n"
      ]
    },
    {
      "cell_type": "code",
      "execution_count": null,
      "metadata": {
        "id": "ljQkOVVBp4dr"
      },
      "outputs": [],
      "source": [
        "%matplotlib inline"
      ]
    },
    {
      "cell_type": "code",
      "execution_count": null,
      "metadata": {
        "id": "rK8crVOZp4dt"
      },
      "outputs": [],
      "source": [
        "import numpy as np\n",
        "from scipy import ndimage as ndi\n",
        "import fnmatch,os\n",
        "import matplotlib.pyplot as plt\n",
        "from glob import glob\n",
        "\n",
        "from skimage import img_as_ubyte, filters, morphology, exposure, io, restoration\n",
        "from skimage.filters import threshold_isodata\n",
        "from skimage.transform import pyramid_expand\n",
        "from skimage.measure import regionprops,label\n"
      ]
    },
    {
      "cell_type": "markdown",
      "metadata": {
        "id": "h2gAaRFMp4dt"
      },
      "source": [
        "# 1. Read a microct image\n",
        "- from url\n",
        "- from NERSC\n",
        "- from Google drive"
      ]
    },
    {
      "cell_type": "markdown",
      "source": [
        "## Read from NERSC\n",
        "- discard this portion if running in Colab"
      ],
      "metadata": {
        "id": "eLQU6rysvkNM"
      }
    },
    {
      "cell_type": "code",
      "source": [
        "datapath = \"/global/cfs/cdirs/als/users/yourname/yourdata/\" #update these values\n",
        "!ls -lt \"$datapath\""
      ],
      "metadata": {
        "id": "ynDYMCuosjtW"
      },
      "execution_count": null,
      "outputs": []
    },
    {
      "cell_type": "code",
      "source": [
        "image = io.imread(datapath+'bead_pack.tif')"
      ],
      "metadata": {
        "id": "_VOYXLV4HeVm"
      },
      "execution_count": null,
      "outputs": []
    },
    {
      "cell_type": "markdown",
      "source": [
        "## Read from Google drive \n",
        "- discard this portion if running at NERSC"
      ],
      "metadata": {
        "id": "k_kA76WbuNXL"
      }
    },
    {
      "cell_type": "code",
      "source": [
        "from google.colab import drive\n",
        "drive.mount('/content/drive')"
      ],
      "metadata": {
        "id": "f3droixgrA42"
      },
      "execution_count": null,
      "outputs": []
    },
    {
      "cell_type": "code",
      "source": [
        "datapath = \"/content/drive/My Drive/Colab Notebooks/ALS User Meeting 2022 colab/data/\"\n",
        "!ls -lt \"$datapath\""
      ],
      "metadata": {
        "id": "DaHyN6AcuMxD"
      },
      "execution_count": null,
      "outputs": []
    },
    {
      "cell_type": "code",
      "source": [
        "def loadFileNames(path,extension):\n",
        "  ''' Return filename after using colab files.upload - work for 1 file'''\n",
        "  fnames = glob(path+extension)\n",
        "  fnames.sort()\n",
        "  print(path);\n",
        "  print(f\"Number of files: {len(fnames)}\")\n",
        "  return fnames"
      ],
      "metadata": {
        "id": "6wUSe4qFibyk"
      },
      "execution_count": null,
      "outputs": []
    },
    {
      "cell_type": "code",
      "source": [
        "extension = '*tif'\n",
        "files = loadFileNames(datapath+'concrete/',extension)"
      ],
      "metadata": {
        "id": "vCyRv4tziN8C"
      },
      "execution_count": null,
      "outputs": []
    },
    {
      "cell_type": "markdown",
      "source": [
        "# 2. Thresholding techniques\n",
        "- use a slice to test many approaches\n"
      ],
      "metadata": {
        "id": "i9rkfOe8ym3n"
      }
    },
    {
      "cell_type": "code",
      "source": [
        "n = 5\n",
        "aslice = io.imread(files[n])\n",
        "t= filters.try_all_threshold(aslice, figsize=(4,8), verbose=False)\n",
        "#plt.savefig(\"thresholdAll.png\", bbox_inches='tight')"
      ],
      "metadata": {
        "id": "69j1Mfi2mnWd"
      },
      "execution_count": null,
      "outputs": []
    },
    {
      "cell_type": "code",
      "source": [
        "t=filters.threshold_isodata(aslice) #calculates the threshold\n",
        "binary = aslice>t #apply to image\n",
        "plt.imshow(binary)\n",
        "plt.title('threshold_isodata')\n"
      ],
      "metadata": {
        "id": "h-U_eWK6vtoh"
      },
      "execution_count": null,
      "outputs": []
    },
    {
      "cell_type": "code",
      "source": [
        "def imshowcmp(before,after,lut='plasma'):\n",
        "    '''Show 2 images side by side'''\n",
        "    f, ax = plt.subplots(1, 2, figsize=(10, 10))\n",
        "    ax[0].imshow(before,cmap=lut)\n",
        "    ax[1].imshow(after,cmap=lut)"
      ],
      "metadata": {
        "id": "7fYvlWof_XY8"
      },
      "execution_count": null,
      "outputs": []
    },
    {
      "cell_type": "code",
      "source": [
        "imshowcmp(aslice,binary,'gray')"
      ],
      "metadata": {
        "id": "phXU-0Z6_ZRm"
      },
      "execution_count": null,
      "outputs": []
    },
    {
      "cell_type": "markdown",
      "source": [
        "# 3. Image enhancing techniques\n",
        "- denoising: median, bilateral\n",
        "- sharpening\n",
        "- morphological operators "
      ],
      "metadata": {
        "id": "NFZQZ_C7CsAG"
      }
    },
    {
      "cell_type": "code",
      "source": [
        "aslice = aslice[1200:1700,1200:1700]"
      ],
      "metadata": {
        "id": "uK4m40wgFdwy"
      },
      "execution_count": null,
      "outputs": []
    },
    {
      "cell_type": "code",
      "source": [
        "selem = morphology.diamond(3)\n",
        "medianImage = filters.median(aslice,selem)\n",
        "imshowcmp(aslice,medianImage,'gray')"
      ],
      "metadata": {
        "id": "HGlNC9PpERYL"
      },
      "execution_count": null,
      "outputs": []
    },
    {
      "cell_type": "code",
      "source": [
        "#from skimage import restoration\n",
        "bilatImage = filters.rank.mean_bilateral(aslice,selem)\n",
        "imshowcmp(aslice,bilatImage,'gray')"
      ],
      "metadata": {
        "id": "WoleOjJRERcz"
      },
      "execution_count": null,
      "outputs": []
    },
    {
      "cell_type": "code",
      "source": [
        "sharpImage = filters.unsharp_mask(aslice, radius=20, amount=1)\n",
        "imshowcmp(aslice,sharpImage,'gray')"
      ],
      "metadata": {
        "id": "kB6YwIa5EO1Y"
      },
      "execution_count": null,
      "outputs": []
    },
    {
      "cell_type": "code",
      "source": [
        "dilatImage = morphology.dilation(aslice,selem=selem)\n",
        "imshowcmp(aslice,dilatImage,'gray')"
      ],
      "metadata": {
        "id": "kcIuOkbLVxBT"
      },
      "execution_count": null,
      "outputs": []
    },
    {
      "cell_type": "code",
      "source": [
        "dilatImage = morphology.area_closing(aslice)\n",
        "imshowcmp(aslice,dilatImage,'gray')"
      ],
      "metadata": {
        "id": "Ir0gcb0jWdFl"
      },
      "execution_count": null,
      "outputs": []
    },
    {
      "cell_type": "markdown",
      "source": [
        "# 4. Differential operators for edge detection\n",
        "- sobel\n",
        "- other [options](,,,)"
      ],
      "metadata": {
        "id": "WYdf3WMLD9mM"
      }
    },
    {
      "cell_type": "code",
      "source": [
        "sobelImage = filters.sobel(aslice)\n",
        "imshowcmp(aslice,sobelImage,'gray')"
      ],
      "metadata": {
        "id": "_ScNA_Lo_ZU8"
      },
      "execution_count": null,
      "outputs": []
    }
  ],
  "metadata": {
    "kernelspec": {
      "display_name": "Python 3",
      "language": "python",
      "name": "python3"
    },
    "language_info": {
      "codemirror_mode": {
        "name": "ipython",
        "version": 3
      },
      "file_extension": ".py",
      "mimetype": "text/x-python",
      "name": "python",
      "nbconvert_exporter": "python",
      "pygments_lexer": "ipython3",
      "version": "3.7.7"
    },
    "toc": {
      "base_numbering": 1,
      "nav_menu": {},
      "number_sections": true,
      "sideBar": true,
      "skip_h1_title": false,
      "title_cell": "Table of Contents",
      "title_sidebar": "Contents",
      "toc_cell": false,
      "toc_position": {},
      "toc_section_display": true,
      "toc_window_display": false
    },
    "colab": {
      "name": "04_binarypartition.ipynb",
      "provenance": [],
      "collapsed_sections": []
    }
  },
  "nbformat": 4,
  "nbformat_minor": 0
}