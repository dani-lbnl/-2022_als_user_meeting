{
  "cells": [
    {
      "cell_type": "markdown",
      "metadata": {
        "id": "zQX_pbrqp4dD"
      },
      "source": [
        "# ALS User Meeting 2022\n",
        "This notebook describes methods to extract key information from microCT image stacks\n",
        "- 3D interactive visualization\n",
        "- Complete [documentation](https://itkwidgets.readthedocs.io/en/latest/quick_start_guide.html)\n",
        "\n",
        "Created by Dani Ushizima, CAMERA, LBNL - Aug 1st 2022\n"
      ]
    },
    {
      "cell_type": "code",
      "execution_count": null,
      "metadata": {
        "id": "ljQkOVVBp4dr"
      },
      "outputs": [],
      "source": [
        "%matplotlib inline"
      ]
    },
    {
      "cell_type": "code",
      "source": [
        "from skimage import io"
      ],
      "metadata": {
        "id": "Im0Mz6a6EpDT"
      },
      "execution_count": null,
      "outputs": []
    },
    {
      "cell_type": "markdown",
      "metadata": {
        "id": "h2gAaRFMp4dt"
      },
      "source": [
        "# 1. Read a microct image\n",
        "- from NERSC\n",
        "- from Google drive"
      ]
    },
    {
      "cell_type": "markdown",
      "source": [
        "## Read from NERSC\n",
        "- discard this portion if running in Colab"
      ],
      "metadata": {
        "id": "eLQU6rysvkNM"
      }
    },
    {
      "cell_type": "code",
      "source": [
        "datapath = \"/global/cfs/cdirs/als/users/yourname/yourdata/\" #update these values\n",
        "!ls -lt \"$datapath\""
      ],
      "metadata": {
        "id": "ynDYMCuosjtW"
      },
      "execution_count": null,
      "outputs": []
    },
    {
      "cell_type": "markdown",
      "source": [
        "## Read from Google drive \n",
        "- discard this portion if running at NERSC"
      ],
      "metadata": {
        "id": "k_kA76WbuNXL"
      }
    },
    {
      "cell_type": "code",
      "source": [
        "from google.colab import drive\n",
        "drive.mount('/content/drive')"
      ],
      "metadata": {
        "id": "f3droixgrA42"
      },
      "execution_count": null,
      "outputs": []
    },
    {
      "cell_type": "code",
      "source": [
        "datapath = \"/content/drive/My Drive/Colab Notebooks/ALS User Meeting 2022 colab/data/\"\n",
        "!ls -lt \"$datapath\""
      ],
      "metadata": {
        "id": "DaHyN6AcuMxD"
      },
      "execution_count": null,
      "outputs": []
    },
    {
      "cell_type": "code",
      "source": [
        "image = io.imread(datapath+'bead_pack.tif')"
      ],
      "metadata": {
        "id": "_VOYXLV4HeVm"
      },
      "execution_count": null,
      "outputs": []
    },
    {
      "cell_type": "markdown",
      "metadata": {
        "id": "nYxtOXTKp4d7"
      },
      "source": [
        "# 2. Visualization of stack \n",
        "- 3D views with itkwidgets"
      ]
    },
    {
      "cell_type": "code",
      "source": [
        "#if using Colab\n",
        "!pip install 'itkwidgets>=1.0a6'"
      ],
      "metadata": {
        "id": "x_QXLKW3Z_Qo"
      },
      "execution_count": null,
      "outputs": []
    },
    {
      "cell_type": "code",
      "source": [
        "#if using NERSC, look at the message you get for installation and do it\n",
        "!pip install --upgrade --pre itk"
      ],
      "metadata": {
        "id": "3Bzz2aOeFSAC"
      },
      "execution_count": null,
      "outputs": []
    },
    {
      "cell_type": "code",
      "execution_count": null,
      "metadata": {
        "id": "eCRReMehp4d8"
      },
      "outputs": [],
      "source": [
        "from itkwidgets import view\n",
        "view(image, slicing_planes=True)"
      ]
    },
    {
      "cell_type": "code",
      "source": [
        ""
      ],
      "metadata": {
        "id": "D3FQanvaE3Ye"
      },
      "execution_count": null,
      "outputs": []
    }
  ],
  "metadata": {
    "kernelspec": {
      "display_name": "Python 3",
      "language": "python",
      "name": "python3"
    },
    "language_info": {
      "codemirror_mode": {
        "name": "ipython",
        "version": 3
      },
      "file_extension": ".py",
      "mimetype": "text/x-python",
      "name": "python",
      "nbconvert_exporter": "python",
      "pygments_lexer": "ipython3",
      "version": "3.7.7"
    },
    "toc": {
      "base_numbering": 1,
      "nav_menu": {},
      "number_sections": true,
      "sideBar": true,
      "skip_h1_title": false,
      "title_cell": "Table of Contents",
      "title_sidebar": "Contents",
      "toc_cell": false,
      "toc_position": {},
      "toc_section_display": true,
      "toc_window_display": false
    },
    "colab": {
      "name": "06_tridimvis.ipynb",
      "provenance": [],
      "collapsed_sections": []
    }
  },
  "nbformat": 4,
  "nbformat_minor": 0
}