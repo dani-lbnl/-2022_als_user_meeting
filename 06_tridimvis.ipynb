{
  "cells": [
    {
      "cell_type": "markdown",
      "metadata": {
        "id": "view-in-github",
        "colab_type": "text"
      },
      "source": [
        "<a href=\"https://colab.research.google.com/github/dani-lbnl/2022_als_user_meeting/blob/main/06_tridimvis.ipynb\" target=\"_parent\"><img src=\"https://colab.research.google.com/assets/colab-badge.svg\" alt=\"Open In Colab\"/></a>"
      ]
    },
    {
      "cell_type": "markdown",
      "metadata": {
        "id": "zQX_pbrqp4dD"
      },
      "source": [
        "# ALS User Meeting 2022\n",
        "This notebook describes methods to extract key information from microCT image stacks\n",
        "- 3D interactive visualization\n",
        "- Complete [documentation](https://itkwidgets.readthedocs.io/en/latest/quick_start_guide.html)\n",
        "\n",
        "Created by Dani Ushizima, CAMERA, LBNL - Aug 1st 2022\n"
      ]
    },
    {
      "cell_type": "code",
      "execution_count": 1,
      "metadata": {
        "id": "ljQkOVVBp4dr"
      },
      "outputs": [],
      "source": [
        "%matplotlib inline"
      ]
    },
    {
      "cell_type": "markdown",
      "metadata": {
        "id": "h2gAaRFMp4dt"
      },
      "source": [
        "# 1. Read a microct image\n",
        "- from NERSC\n",
        "- from Google drive"
      ]
    },
    {
      "cell_type": "markdown",
      "source": [
        "## Read from NERSC\n",
        "- discard this portion if running in Colab"
      ],
      "metadata": {
        "id": "eLQU6rysvkNM"
      }
    },
    {
      "cell_type": "code",
      "source": [
        "datapath = \"/global/cfs/cdirs/als/users/yourname/yourdata/\" #update these values\n",
        "!ls -lt \"$datapath\""
      ],
      "metadata": {
        "id": "ynDYMCuosjtW"
      },
      "execution_count": null,
      "outputs": []
    },
    {
      "cell_type": "markdown",
      "source": [
        "## Read from Google drive \n",
        "- discard this portion if running at NERSC"
      ],
      "metadata": {
        "id": "k_kA76WbuNXL"
      }
    },
    {
      "cell_type": "code",
      "source": [
        "from google.colab import drive\n",
        "drive.mount('/content/drive')"
      ],
      "metadata": {
        "colab": {
          "base_uri": "https://localhost:8080/"
        },
        "id": "f3droixgrA42",
        "outputId": "9f3be2fb-5508-48c1-c9e8-7074a481417a"
      },
      "execution_count": 2,
      "outputs": [
        {
          "output_type": "stream",
          "name": "stdout",
          "text": [
            "Mounted at /content/drive\n"
          ]
        }
      ]
    },
    {
      "cell_type": "code",
      "source": [
        "datapath = \"/content/drive/My Drive/Colab Notebooks/ALS User Meeting 2022 colab/data/\"\n",
        "!ls -lt \"$datapath\""
      ],
      "metadata": {
        "colab": {
          "base_uri": "https://localhost:8080/"
        },
        "id": "DaHyN6AcuMxD",
        "outputId": "17bfd9da-2ccf-43c5-8ca3-65a72e6f1c53"
      },
      "execution_count": 3,
      "outputs": [
        {
          "output_type": "stream",
          "name": "stdout",
          "text": [
            "total 7842\n",
            "-rw------- 1 root root 8025493 Aug 11 16:46 bead_pack.tif\n",
            "drwx------ 2 root root    4096 Aug 11 16:35 concrete\n"
          ]
        }
      ]
    },
    {
      "cell_type": "code",
      "source": [
        "image = io.imread(datapath+'bead_pack.tif')"
      ],
      "metadata": {
        "id": "_VOYXLV4HeVm"
      },
      "execution_count": 4,
      "outputs": []
    },
    {
      "cell_type": "markdown",
      "metadata": {
        "id": "nYxtOXTKp4d7"
      },
      "source": [
        "# 2. Visualization of stack \n",
        "- 3D views with itkwidgets"
      ]
    },
    {
      "cell_type": "code",
      "source": [
        "!pip install 'itkwidgets>=1.0a6'"
      ],
      "metadata": {
        "colab": {
          "base_uri": "https://localhost:8080/"
        },
        "id": "x_QXLKW3Z_Qo",
        "outputId": "68db44bd-fb17-4b99-e582-6eaea97ab45e"
      },
      "execution_count": 5,
      "outputs": [
        {
          "output_type": "stream",
          "name": "stdout",
          "text": [
            "Looking in indexes: https://pypi.org/simple, https://us-python.pkg.dev/colab-wheels/public/simple/\n",
            "Requirement already satisfied: itkwidgets>=1.0a6 in /usr/local/lib/python3.7/dist-packages (1.0a7)\n",
            "Requirement already satisfied: itkwasm in /usr/local/lib/python3.7/dist-packages (from itkwidgets>=1.0a6) (1.0b1)\n",
            "Requirement already satisfied: imjoy-utils>=0.1.2 in /usr/local/lib/python3.7/dist-packages (from itkwidgets>=1.0a6) (0.1.2)\n",
            "Requirement already satisfied: zarr in /usr/local/lib/python3.7/dist-packages (from itkwidgets>=1.0a6) (2.12.0)\n",
            "Requirement already satisfied: imjoy-rpc>=0.5.13 in /usr/local/lib/python3.7/dist-packages (from itkwidgets>=1.0a6) (0.5.15)\n",
            "Requirement already satisfied: numcodecs in /usr/local/lib/python3.7/dist-packages (from itkwidgets>=1.0a6) (0.10.2)\n",
            "Requirement already satisfied: msgpack>=1.0.2 in /usr/local/lib/python3.7/dist-packages (from imjoy-rpc>=0.5.13->itkwidgets>=1.0a6) (1.0.4)\n",
            "Requirement already satisfied: websockets in /usr/local/lib/python3.7/dist-packages (from imjoy-rpc>=0.5.13->itkwidgets>=1.0a6) (10.3)\n",
            "Requirement already satisfied: shortuuid>=1.0.8 in /usr/local/lib/python3.7/dist-packages (from imjoy-rpc>=0.5.13->itkwidgets>=1.0a6) (1.0.9)\n",
            "Requirement already satisfied: numpy in /usr/local/lib/python3.7/dist-packages (from itkwasm->itkwidgets>=1.0a6) (1.21.6)\n",
            "Requirement already satisfied: entrypoints in /usr/local/lib/python3.7/dist-packages (from numcodecs->itkwidgets>=1.0a6) (0.4)\n",
            "Requirement already satisfied: typing-extensions>=3.7.4 in /usr/local/lib/python3.7/dist-packages (from numcodecs->itkwidgets>=1.0a6) (4.1.1)\n",
            "Requirement already satisfied: asciitree in /usr/local/lib/python3.7/dist-packages (from zarr->itkwidgets>=1.0a6) (0.3.3)\n",
            "Requirement already satisfied: fasteners in /usr/local/lib/python3.7/dist-packages (from zarr->itkwidgets>=1.0a6) (0.17.3)\n"
          ]
        }
      ]
    },
    {
      "cell_type": "code",
      "execution_count": 6,
      "metadata": {
        "colab": {
          "base_uri": "https://localhost:8080/",
          "height": 564
        },
        "id": "eCRReMehp4d8",
        "outputId": "cf524fa9-4ace-4764-f81e-ce82965a7c6c"
      },
      "outputs": [
        {
          "output_type": "display_data",
          "data": {
            "text/plain": [
              "<IPython.core.display.HTML object>"
            ],
            "text/html": [
              "<script src=\"https://lib.imjoy.io/imjoy-loader.js\"></script>\n",
              "<script>\n",
              "  function randId() {\n",
              "    return Math.random()\n",
              "      .toString(36)\n",
              "      .substr(2, 10);\n",
              "  }\n",
              "\n",
              "  class MessageEmitter {\n",
              "    constructor(debug) {\n",
              "      this._event_handlers = {};\n",
              "      this._once_handlers = {};\n",
              "      this._debug = debug;\n",
              "    }\n",
              "    emit() {\n",
              "      throw new Error(\"emit is not implemented\");\n",
              "    }\n",
              "    on(event, handler) {\n",
              "      if (!this._event_handlers[event]) {\n",
              "        this._event_handlers[event] = [];\n",
              "      }\n",
              "      this._event_handlers[event].push(handler);\n",
              "    }\n",
              "    once(event, handler) {\n",
              "      handler.___event_run_once = true;\n",
              "      this.on(event, handler);\n",
              "    }\n",
              "    off(event, handler) {\n",
              "      if (!event && !handler) {\n",
              "        // remove all events handlers\n",
              "        this._event_handlers = {};\n",
              "      } else if (event && !handler) {\n",
              "        // remove all hanlders for the event\n",
              "        if (this._event_handlers[event]) this._event_handlers[event] = [];\n",
              "      } else {\n",
              "        // remove a specific handler\n",
              "        if (this._event_handlers[event]) {\n",
              "          const idx = this._event_handlers[event].indexOf(handler);\n",
              "          if (idx >= 0) {\n",
              "            this._event_handlers[event].splice(idx, 1);\n",
              "          }\n",
              "        }\n",
              "      }\n",
              "    }\n",
              "    _fire(event, data) {\n",
              "      if (this._event_handlers[event]) {\n",
              "        var i = this._event_handlers[event].length;\n",
              "        while (i--) {\n",
              "          const handler = this._event_handlers[event][i];\n",
              "          try {\n",
              "            handler(data);\n",
              "          } catch (e) {\n",
              "            console.error(e);\n",
              "          } finally {\n",
              "            if (handler.___event_run_once) {\n",
              "              this._event_handlers[event].splice(i, 1);\n",
              "            }\n",
              "          }\n",
              "        }\n",
              "      } else {\n",
              "        if (this._debug) {\n",
              "          console.warn(\"unhandled event\", event, data);\n",
              "        }\n",
              "      }\n",
              "    }\n",
              "  }\n",
              "\n",
              "  class Connection extends MessageEmitter {\n",
              "    constructor(config) {\n",
              "      super(config && config.debug);\n",
              "      google.colab.kernel.comms.open('imjoy_rpc', {}).then((comm) => {\n",
              "        setTimeout(async () => {\n",
              "          for await (const msg of comm.messages) {\n",
              "            const data = msg.data;\n",
              "            const buffer_paths = data.__buffer_paths__ || [];\n",
              "            delete data.__buffer_paths__;\n",
              "            put_buffers(data, buffer_paths, msg.buffers || []);\n",
              "            if (data.type === \"log\" || data.type === \"info\") {\n",
              "              console.log(data.message);\n",
              "            } else if (data.type === \"error\") {\n",
              "              console.error(data.message);\n",
              "            } else {\n",
              "              if (data.peer_id) {\n",
              "                this._peer_id = data.peer_id\n",
              "              }\n",
              "              this._fire(data.type, data);\n",
              "            }\n",
              "          }\n",
              "        }, 0)\n",
              "        this.comm = comm;\n",
              "      }).catch((e) => {\n",
              "        console.error(\"failed to connect to imjoy plugin\")\n",
              "        document.getElementById('loading').style.display = 'none';\n",
              "        document.getElementById('app').parentNode.innerHTML =\n",
              "          \"Execute this cell again to see the ImJoy plugin\";\n",
              "      })\n",
              "    }\n",
              "    connect() {}\n",
              "    disconnect() {}\n",
              "    emit(data) {\n",
              "      data.peer_id = this._peer_id;\n",
              "      const split = remove_buffers(data);\n",
              "      split.state.__buffer_paths__ = split.buffer_paths;\n",
              "      this.comm.send(split.state, {\n",
              "        buffers: split.buffers\n",
              "      });\n",
              "    }\n",
              "  };\n",
              "\n",
              "  function isSerializable(object) {\n",
              "    return typeof object === \"object\" && object && object.toJSON;\n",
              "  }\n",
              "\n",
              "  function isObject(value) {\n",
              "    return value && typeof value === \"object\" && value.constructor === Object;\n",
              "  }\n",
              "\n",
              "  // pub_buffers and remove_buffers are taken from\n",
              "  // https://github.com/jupyter-widgets/ipywidgets/blob/master/packages/base/src/utils.ts\n",
              "  // Author: IPython Development Team\n",
              "  // License: BSD\n",
              "  function put_buffers(state, buffer_paths, buffers) {\n",
              "    buffers = buffers.map(b => {\n",
              "      if (b instanceof DataView) {\n",
              "        return b.buffer;\n",
              "      } else {\n",
              "        return b instanceof ArrayBuffer ? b : b.buffer;\n",
              "      }\n",
              "    });\n",
              "    for (let i = 0; i < buffer_paths.length; i++) {\n",
              "      const buffer_path = buffer_paths[i];\n",
              "      // say we want to set state[x][y][z] = buffers[i]\n",
              "      let obj = state;\n",
              "      // we first get obj = state[x][y]\n",
              "      for (let j = 0; j < buffer_path.length - 1; j++) {\n",
              "        obj = obj[buffer_path[j]];\n",
              "      }\n",
              "      // and then set: obj[z] = buffers[i]\n",
              "      obj[buffer_path[buffer_path.length - 1]] = buffers[i];\n",
              "    }\n",
              "  }\n",
              "\n",
              "  /**\n",
              "   * The inverse of put_buffers, return an objects with the new state where all buffers(ArrayBuffer)\n",
              "   * are removed. If a buffer is a member of an object, that object is cloned, and the key removed. If a buffer\n",
              "   * is an element of an array, that array is cloned, and the element is set to null.\n",
              "   * See put_buffers for the meaning of buffer_paths\n",
              "   * Returns an object with the new state (.state) an array with paths to the buffers (.buffer_paths),\n",
              "   * and the buffers associated to those paths (.buffers).\n",
              "   */\n",
              "  function remove_buffers(state) {\n",
              "    const buffers = [];\n",
              "    const buffer_paths = [];\n",
              "    // if we need to remove an object from a list, we need to clone that list, otherwise we may modify\n",
              "    // the internal state of the widget model\n",
              "    // however, we do not want to clone everything, for performance\n",
              "    function remove(obj, path) {\n",
              "      if (isSerializable(obj)) {\n",
              "        // We need to get the JSON form of the object before recursing.\n",
              "        // See https://developer.mozilla.org/en-US/docs/Web/JavaScript/Reference/Global_Objects/JSON/stringify#toJSON()_behavior\n",
              "        obj = obj.toJSON();\n",
              "      }\n",
              "      if (Array.isArray(obj)) {\n",
              "        let is_cloned = false;\n",
              "        for (let i = 0; i < obj.length; i++) {\n",
              "          const value = obj[i];\n",
              "          if (value) {\n",
              "            if (value instanceof ArrayBuffer || ArrayBuffer.isView(value)) {\n",
              "              if (!is_cloned) {\n",
              "                obj = obj.slice();\n",
              "                is_cloned = true;\n",
              "              }\n",
              "              buffers.push(ArrayBuffer.isView(value) ? value.buffer : value);\n",
              "              buffer_paths.push(path.concat([i]));\n",
              "              // easier to just keep the array, but clear the entry, otherwise we have to think\n",
              "              // about array length, much easier this way\n",
              "              obj[i] = null;\n",
              "            } else {\n",
              "              const new_value = remove(value, path.concat([i]));\n",
              "              // only assigned when the value changes, we may serialize objects that don't support assignment\n",
              "              if (new_value !== value) {\n",
              "                if (!is_cloned) {\n",
              "                  obj = obj.slice();\n",
              "                  is_cloned = true;\n",
              "                }\n",
              "                obj[i] = new_value;\n",
              "              }\n",
              "            }\n",
              "          }\n",
              "        }\n",
              "      } else if (isObject(obj)) {\n",
              "        for (const key in obj) {\n",
              "          let is_cloned = false;\n",
              "          if (Object.prototype.hasOwnProperty.call(obj, key)) {\n",
              "            const value = obj[key];\n",
              "            if (value) {\n",
              "              if (value instanceof ArrayBuffer || ArrayBuffer.isView(value)) {\n",
              "                if (!is_cloned) {\n",
              "                  obj = {\n",
              "                    ...obj\n",
              "                  };\n",
              "                  is_cloned = true;\n",
              "                }\n",
              "                buffers.push(ArrayBuffer.isView(value) ? value.buffer : value);\n",
              "                buffer_paths.push(path.concat([key]));\n",
              "                delete obj[key]; // for objects/dicts we just delete them\n",
              "              } else {\n",
              "                const new_value = remove(value, path.concat([key]));\n",
              "                // only assigned when the value changes, we may serialize objects that don't support assignment\n",
              "                if (new_value !== value) {\n",
              "                  if (!is_cloned) {\n",
              "                    obj = {\n",
              "                      ...obj\n",
              "                    };\n",
              "                    is_cloned = true;\n",
              "                  }\n",
              "                  obj[key] = new_value;\n",
              "                }\n",
              "              }\n",
              "            }\n",
              "          }\n",
              "        }\n",
              "      }\n",
              "      return obj;\n",
              "    }\n",
              "    const new_state = remove(state, []);\n",
              "    return {\n",
              "      state: new_state,\n",
              "      buffers: buffers,\n",
              "      buffer_paths: buffer_paths\n",
              "    };\n",
              "  }\n",
              "\n",
              "  document.getElementById('init-loader').style.display = 'block';\n",
              "  loadImJoyBasicApp({\n",
              "    version: '0.13.74',\n",
              "    process_url_query: true,\n",
              "    show_window_title: false,\n",
              "    show_progress_bar: true,\n",
              "    show_loader: true,\n",
              "    show_empty_window: true,\n",
              "    menu_style: {\n",
              "      position: \"absolute\",\n",
              "      right: 0,\n",
              "      top: \"4px\"\n",
              "    },\n",
              "    window_style: {\n",
              "      width: '100%',\n",
              "      height: '100%'\n",
              "    },\n",
              "    main_container: null,\n",
              "    menu_container: \"menu-container\",\n",
              "    window_manager_container: \"window-container\",\n",
              "    imjoy_api: {\n",
              "      alert(plugin, msg) {\n",
              "        window.imjoyApp.showSnackbar(msg);\n",
              "      },\n",
              "    } // override some imjoy API functions here\n",
              "  }).then(async app => {\n",
              "    window.imjoyApp = app;\n",
              "    makeResizable();\n",
              "    // get the api object from the root plugin\n",
              "    const api = app.imjoy.api;\n",
              "    const connection = new Connection()\n",
              "    const plugin = await app.imjoy.pm\n",
              "      .connectPlugin(connection)\n",
              "\n",
              "    const container = document.getElementById('window-container');\n",
              "    container.style.height = '500px';\n",
              "\n",
              "    try {\n",
              "      if (plugin.api.setup) {\n",
              "        await plugin.api.setup()\n",
              "\n",
              "      }\n",
              "    } catch (e) {\n",
              "      console.error(e)\n",
              "    } finally {\n",
              "      document.getElementById('init-loader').style.display = 'none';\n",
              "    }\n",
              "    if (plugin.api.run) {\n",
              "      await plugin.api.run({\n",
              "        config: {},\n",
              "        data: {}\n",
              "      });\n",
              "    }\n",
              "\n",
              "    app.addMenuItem({\n",
              "      label: \"▶️ Run\",\n",
              "      async callback() {\n",
              "        await plugin.api.run({\n",
              "          config: {},\n",
              "          data: {}\n",
              "        });\n",
              "      }\n",
              "    })\n",
              "\n",
              "  });\n",
              "\n",
              "  function makeResizable() {\n",
              "    const element = document.getElementById('window-container');\n",
              "    //create box in bottom-left\n",
              "    const resizer = document.createElement('div');\n",
              "    resizer.style.width = '40px';\n",
              "    resizer.style.height = '3px';\n",
              "    resizer.style.background = '#80808061';\n",
              "    resizer.style.position = 'fixed';\n",
              "    resizer.style.left = \"50%\";\n",
              "    resizer.style.cursor = 'row-resize';\n",
              "    //Append Child to Element\n",
              "    element.parentNode.appendChild(resizer);\n",
              "    //box function onmousemove\n",
              "    resizer.addEventListener('mousedown', initResize, false);\n",
              "\n",
              "    //Window funtion mousemove & mouseup\n",
              "    function initResize(e) {\n",
              "      window.addEventListener('mousemove', Resize, false);\n",
              "      window.addEventListener('mouseup', stopResize, false);\n",
              "    }\n",
              "    //resize the element\n",
              "    function Resize(e) {\n",
              "      // element.style.width = (e.clientX - element.offsetLeft) + 'px';\n",
              "      element.style.height = (e.clientY - element.offsetTop) + 'px';\n",
              "    }\n",
              "    //on mouseup remove windows functions mousemove & mouseup\n",
              "    function stopResize(e) {\n",
              "      window.removeEventListener('mousemove', Resize, false);\n",
              "      window.removeEventListener('mouseup', stopResize, false);\n",
              "    }\n",
              "  }\n",
              "</script>\n",
              "<div class=\"loader\" id=\"loading\"></div>\n",
              "<div id=\"window-container\" style=\"z-index: 100;\"></div>\n",
              "<div id=\"menu-container\" style=\"z-index: 200\"></div>\n",
              "<div class=\"imjoy-loader\" style=\"display:none;\" id=\"init-loader\"></div>"
            ]
          },
          "metadata": {}
        },
        {
          "output_type": "display_data",
          "data": {
            "text/plain": [
              "<IPython.core.display.HTML object>"
            ],
            "text/html": [
              "<div id=\"a4102e47-2d2d-40a2-b342-c96f10c6c83f\"></div>"
            ]
          },
          "metadata": {}
        },
        {
          "output_type": "execute_result",
          "data": {
            "text/plain": [
              "<itkwidgets.viewer.Viewer at 0x7fbb4db78f50>"
            ]
          },
          "metadata": {},
          "execution_count": 6
        }
      ],
      "source": [
        "#import itk\n",
        "from itkwidgets import view\n",
        "#file_name = '/Users/dani/Documents/data/fibers/materialsFacility/alex_fibers/snapshots/binary_ndown10.tif'\n",
        "#image = itk.imread(file_name)\n",
        "#itk.GetImageViewFromArray(imageBlock.astype(np.float64))\n",
        "#itk.GetImageViewFromArray(image[:,:,:])\n",
        "view(image, slicing_planes=True)\n",
        "\n",
        "#showing full stack"
      ]
    }
  ],
  "metadata": {
    "kernelspec": {
      "display_name": "Python 3",
      "language": "python",
      "name": "python3"
    },
    "language_info": {
      "codemirror_mode": {
        "name": "ipython",
        "version": 3
      },
      "file_extension": ".py",
      "mimetype": "text/x-python",
      "name": "python",
      "nbconvert_exporter": "python",
      "pygments_lexer": "ipython3",
      "version": "3.7.7"
    },
    "toc": {
      "base_numbering": 1,
      "nav_menu": {},
      "number_sections": true,
      "sideBar": true,
      "skip_h1_title": false,
      "title_cell": "Table of Contents",
      "title_sidebar": "Contents",
      "toc_cell": false,
      "toc_position": {},
      "toc_section_display": true,
      "toc_window_display": false
    },
    "colab": {
      "name": "06_tridimvis.ipynb",
      "provenance": [],
      "collapsed_sections": [],
      "include_colab_link": true
    }
  },
  "nbformat": 4,
  "nbformat_minor": 0
}