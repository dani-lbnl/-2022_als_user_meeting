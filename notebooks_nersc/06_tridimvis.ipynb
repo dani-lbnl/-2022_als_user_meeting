{
 "cells": [
  {
   "cell_type": "markdown",
   "metadata": {
    "id": "zQX_pbrqp4dD"
   },
   "source": [
    "# ALS User Meeting 2022\n",
    "This notebook describes methods to extract key information from microCT image stacks\n",
    "- 3D interactive visualization\n",
    "- Complete [documentation](https://itkwidgets.readthedocs.io/en/latest/quick_start_guide.html)\n",
    "\n",
    "Created by Dani Ushizima, CAMERA, LBNL - Aug 1st 2022\n"
   ]
  },
  {
   "cell_type": "code",
   "execution_count": null,
   "metadata": {
    "id": "Im0Mz6a6EpDT"
   },
   "outputs": [],
   "source": [
    "from skimage import io"
   ]
  },
  {
   "cell_type": "markdown",
   "metadata": {
    "id": "h2gAaRFMp4dt"
   },
   "source": [
    "# 1. Read a microct image\n",
    "- from NERSC\n",
    "- from Google drive"
   ]
  },
  {
   "cell_type": "markdown",
   "metadata": {
    "id": "eLQU6rysvkNM"
   },
   "source": [
    "## Read from NERSC\n",
    "- discard this portion if running in Colab"
   ]
  },
  {
   "cell_type": "code",
   "execution_count": null,
   "metadata": {
    "id": "ynDYMCuosjtW"
   },
   "outputs": [],
   "source": [
    "datapath = \"/global/homes/u/ushizima/notebooks_nersc/data/\" #update these values\n",
    "!ls -lt \"$datapath\""
   ]
  },
  {
   "cell_type": "code",
   "execution_count": null,
   "metadata": {
    "id": "_VOYXLV4HeVm"
   },
   "outputs": [],
   "source": [
    "image = io.imread(datapath+'bead_pack.tif')"
   ]
  },
  {
   "cell_type": "markdown",
   "metadata": {
    "id": "nYxtOXTKp4d7"
   },
   "source": [
    "# 2. Visualization of stack \n",
    "- 3D views with itkwidgets"
   ]
  },
  {
   "cell_type": "code",
   "execution_count": null,
   "metadata": {
    "id": "x_QXLKW3Z_Qo"
   },
   "outputs": [],
   "source": [
    "#if using Colab\n",
    "#!pip install 'itkwidgets>=1.0a6'"
   ]
  },
  {
   "cell_type": "code",
   "execution_count": null,
   "metadata": {
    "id": "3Bzz2aOeFSAC"
   },
   "outputs": [],
   "source": [
    "#if using NERSC, look at the message you get for installation and do it\n",
    "!pip install --upgrade --pre itk"
   ]
  },
  {
   "cell_type": "code",
   "execution_count": null,
   "metadata": {
    "id": "eCRReMehp4d8"
   },
   "outputs": [],
   "source": [
    "from itkwidgets import view\n",
    "#view(image, slicing_planes=True)"
   ]
  },
  {
   "cell_type": "code",
   "execution_count": null,
   "metadata": {
    "id": "D3FQanvaE3Ye"
   },
   "outputs": [],
   "source": []
  }
 ],
 "metadata": {
  "colab": {
   "collapsed_sections": [],
   "name": "06_tridimvis.ipynb",
   "provenance": []
  },
  "kernelspec": {
   "display_name": "Python 3 (ipykernel)",
   "language": "python",
   "name": "python3"
  },
  "language_info": {
   "codemirror_mode": {
    "name": "ipython",
    "version": 3
   },
   "file_extension": ".py",
   "mimetype": "text/x-python",
   "name": "python",
   "nbconvert_exporter": "python",
   "pygments_lexer": "ipython3",
   "version": "3.9.13"
  },
  "toc": {
   "base_numbering": 1,
   "nav_menu": {},
   "number_sections": true,
   "sideBar": true,
   "skip_h1_title": false,
   "title_cell": "Table of Contents",
   "title_sidebar": "Contents",
   "toc_cell": false,
   "toc_position": {},
   "toc_section_display": true,
   "toc_window_display": false
  }
 },
 "nbformat": 4,
 "nbformat_minor": 4
}
