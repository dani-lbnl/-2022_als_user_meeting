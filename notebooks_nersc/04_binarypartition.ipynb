{
 "cells": [
  {
   "cell_type": "markdown",
   "metadata": {
    "id": "zQX_pbrqp4dD"
   },
   "source": [
    "# ALS User Meeting 2022\n",
    "This notebook describes methods to extract key information from microCT image stacks\n",
    "- Thresholding techniques\n",
    "- Image enhancing techniques\n",
    "- Differential operators for edge detection\n",
    "\n",
    "Created by Dani Ushizima, CAMERA, LBNL - Aug 1st 2022\n"
   ]
  },
  {
   "cell_type": "code",
   "execution_count": null,
   "metadata": {
    "id": "ljQkOVVBp4dr"
   },
   "outputs": [],
   "source": [
    "%matplotlib inline"
   ]
  },
  {
   "cell_type": "code",
   "execution_count": null,
   "metadata": {
    "id": "rK8crVOZp4dt"
   },
   "outputs": [],
   "source": [
    "import numpy as np\n",
    "from scipy import ndimage as ndi\n",
    "import fnmatch,os\n",
    "import matplotlib.pyplot as plt\n",
    "from glob import glob\n",
    "\n",
    "from skimage import img_as_ubyte, filters, morphology, exposure, io, restoration\n",
    "from skimage.filters import threshold_isodata\n",
    "from skimage.transform import pyramid_expand"
   ]
  },
  {
   "cell_type": "markdown",
   "metadata": {
    "id": "h2gAaRFMp4dt"
   },
   "source": [
    "# 1. Read a microct image\n",
    "- from url\n",
    "- from NERSC\n",
    "- from Google drive"
   ]
  },
  {
   "cell_type": "markdown",
   "metadata": {
    "id": "eLQU6rysvkNM"
   },
   "source": [
    "## Read from NERSC\n",
    "- discard this portion if running in Colab"
   ]
  },
  {
   "cell_type": "code",
   "execution_count": null,
   "metadata": {
    "id": "ynDYMCuosjtW"
   },
   "outputs": [],
   "source": [
    "datapath = \"/global/homes/u/ushizima/notebooks_nersc/data/\" #update these values\n",
    "!ls -lt \"$datapath\""
   ]
  },
  {
   "cell_type": "code",
   "execution_count": null,
   "metadata": {
    "id": "6wUSe4qFibyk"
   },
   "outputs": [],
   "source": [
    "def loadFileNames(path,extension):\n",
    "  ''' Return filename after using colab files.upload - work for 1 file'''\n",
    "  fnames = glob(path+extension)\n",
    "  fnames.sort()\n",
    "  print(path);\n",
    "  print(f\"Number of files: {len(fnames)}\")\n",
    "  return fnames"
   ]
  },
  {
   "cell_type": "code",
   "execution_count": null,
   "metadata": {
    "id": "vCyRv4tziN8C"
   },
   "outputs": [],
   "source": [
    "extension = '*tif'\n",
    "files = loadFileNames(datapath+'concrete/',extension)"
   ]
  },
  {
   "cell_type": "markdown",
   "metadata": {
    "id": "i9rkfOe8ym3n"
   },
   "source": [
    "# 2. Thresholding techniques\n",
    "- use a slice to test many approaches\n"
   ]
  },
  {
   "cell_type": "code",
   "execution_count": null,
   "metadata": {
    "id": "69j1Mfi2mnWd"
   },
   "outputs": [],
   "source": [
    "n = 5\n",
    "aslice = io.imread(files[n])\n",
    "t= filters.try_all_threshold(aslice, figsize=(4,8), verbose=False)\n",
    "#plt.savefig(\"thresholdAll.png\", bbox_inches='tight')"
   ]
  },
  {
   "cell_type": "code",
   "execution_count": null,
   "metadata": {
    "id": "h-U_eWK6vtoh"
   },
   "outputs": [],
   "source": [
    "t=filters.threshold_isodata(aslice) #calculates the threshold\n",
    "binary = aslice>t #apply to image\n",
    "plt.imshow(binary)\n",
    "plt.title('threshold_isodata')\n"
   ]
  },
  {
   "cell_type": "code",
   "execution_count": null,
   "metadata": {
    "id": "7fYvlWof_XY8"
   },
   "outputs": [],
   "source": [
    "def imshowcmp(before,after,lut='plasma'):\n",
    "    '''Show 2 images side by side'''\n",
    "    f, ax = plt.subplots(1, 2, figsize=(10, 10))\n",
    "    ax[0].imshow(before,cmap=lut)\n",
    "    ax[1].imshow(after,cmap=lut)"
   ]
  },
  {
   "cell_type": "code",
   "execution_count": null,
   "metadata": {
    "id": "phXU-0Z6_ZRm"
   },
   "outputs": [],
   "source": [
    "imshowcmp(aslice,binary,'gray')"
   ]
  },
  {
   "cell_type": "markdown",
   "metadata": {
    "id": "NFZQZ_C7CsAG"
   },
   "source": [
    "# 3. Image enhancing techniques\n",
    "- denoising: median, bilateral\n",
    "- sharpening\n",
    "- morphological operators "
   ]
  },
  {
   "cell_type": "code",
   "execution_count": null,
   "metadata": {
    "id": "uK4m40wgFdwy"
   },
   "outputs": [],
   "source": [
    "aslice = aslice[1200:1700,1200:1700]"
   ]
  },
  {
   "cell_type": "code",
   "execution_count": null,
   "metadata": {
    "id": "HGlNC9PpERYL"
   },
   "outputs": [],
   "source": [
    "selem = morphology.diamond(3)\n",
    "medianImage = filters.median(aslice,selem)\n",
    "imshowcmp(aslice,medianImage,'gray')"
   ]
  },
  {
   "cell_type": "code",
   "execution_count": null,
   "metadata": {
    "id": "WoleOjJRERcz"
   },
   "outputs": [],
   "source": [
    "#from skimage import restoration\n",
    "bilatImage = filters.rank.mean_bilateral(aslice,selem)\n",
    "imshowcmp(aslice,bilatImage,'gray')"
   ]
  },
  {
   "cell_type": "code",
   "execution_count": null,
   "metadata": {
    "id": "kB6YwIa5EO1Y"
   },
   "outputs": [],
   "source": [
    "sharpImage = filters.unsharp_mask(aslice, radius=20, amount=1)\n",
    "imshowcmp(aslice,sharpImage,'gray')"
   ]
  },
  {
   "cell_type": "code",
   "execution_count": null,
   "metadata": {
    "id": "kcIuOkbLVxBT"
   },
   "outputs": [],
   "source": [
    "dilatImage = morphology.dilation(aslice,selem=selem)\n",
    "imshowcmp(aslice,dilatImage,'gray')"
   ]
  },
  {
   "cell_type": "code",
   "execution_count": null,
   "metadata": {
    "id": "Ir0gcb0jWdFl"
   },
   "outputs": [],
   "source": [
    "dilatImage = morphology.area_closing(aslice)\n",
    "imshowcmp(aslice,dilatImage,'gray')"
   ]
  },
  {
   "cell_type": "markdown",
   "metadata": {
    "id": "WYdf3WMLD9mM"
   },
   "source": [
    "# 4. Differential operators for edge detection\n",
    "- sobel\n",
    "- other [options](,,,)"
   ]
  },
  {
   "cell_type": "code",
   "execution_count": null,
   "metadata": {
    "id": "_ScNA_Lo_ZU8"
   },
   "outputs": [],
   "source": [
    "sobelImage = filters.sobel(aslice)\n",
    "imshowcmp(aslice,sobelImage,'gray')"
   ]
  },
  {
   "cell_type": "code",
   "execution_count": null,
   "metadata": {},
   "outputs": [],
   "source": []
  }
 ],
 "metadata": {
  "colab": {
   "collapsed_sections": [],
   "name": "04_binarypartition.ipynb",
   "provenance": []
  },
  "kernelspec": {
   "display_name": "Python 3 (ipykernel)",
   "language": "python",
   "name": "python3"
  },
  "language_info": {
   "codemirror_mode": {
    "name": "ipython",
    "version": 3
   },
   "file_extension": ".py",
   "mimetype": "text/x-python",
   "name": "python",
   "nbconvert_exporter": "python",
   "pygments_lexer": "ipython3",
   "version": "3.9.13"
  },
  "toc": {
   "base_numbering": 1,
   "nav_menu": {},
   "number_sections": true,
   "sideBar": true,
   "skip_h1_title": false,
   "title_cell": "Table of Contents",
   "title_sidebar": "Contents",
   "toc_cell": false,
   "toc_position": {},
   "toc_section_display": true,
   "toc_window_display": false
  }
 },
 "nbformat": 4,
 "nbformat_minor": 4
}
