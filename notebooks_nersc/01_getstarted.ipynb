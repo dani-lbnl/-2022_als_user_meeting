{
 "cells": [
  {
   "cell_type": "markdown",
   "metadata": {
    "id": "zQX_pbrqp4dD"
   },
   "source": [
    "# ALS User Meeting 2022\n",
    "This notebook describes methods to extract key information from microCT image stacks\n",
    "- Read images from different sources\n",
    "- Show slices of a ndarray\n",
    "- Plot a slice at random\n",
    "- Determine stack size \n",
    "\n",
    "Created by Dani Ushizima, CAMERA, LBNL - Aug 1st 2022\n"
   ]
  },
  {
   "cell_type": "code",
   "execution_count": null,
   "metadata": {
    "id": "ljQkOVVBp4dr"
   },
   "outputs": [],
   "source": [
    "%matplotlib inline"
   ]
  },
  {
   "cell_type": "code",
   "execution_count": null,
   "metadata": {
    "id": "rK8crVOZp4dt"
   },
   "outputs": [],
   "source": [
    "import numpy as np\n",
    "import matplotlib.pyplot as plt\n",
    "from skimage import img_as_ubyte, io\n"
   ]
  },
  {
   "cell_type": "markdown",
   "metadata": {
    "id": "h2gAaRFMp4dt"
   },
   "source": [
    "# 1. Read a microct image\n",
    "- from url\n",
    "- from NERSC\n",
    "- from Google drive"
   ]
  },
  {
   "cell_type": "markdown",
   "metadata": {
    "id": "eo7wVMt_HPfX"
   },
   "source": [
    "## Read from the web"
   ]
  },
  {
   "cell_type": "code",
   "execution_count": null,
   "metadata": {
    "id": "3tvQCi7Sq7ea"
   },
   "outputs": [],
   "source": [
    "#Get an image stack given a url\n",
    "!wget https://github.com/dani-lbnl/imagexd19/blob/master/dip/data/bead_pack.tif?raw=true\n",
    "!mv bead_pack.tif?raw=true bead_pack.tif"
   ]
  },
  {
   "cell_type": "code",
   "execution_count": null,
   "metadata": {
    "id": "XhCJ2I3dsVkV"
   },
   "outputs": [],
   "source": [
    "#Double-check you got the image\n",
    "!ls *.tif"
   ]
  },
  {
   "cell_type": "code",
   "execution_count": null,
   "metadata": {
    "id": "dij30xmFsjlI"
   },
   "outputs": [],
   "source": [
    "#Load the image\n",
    "image = io.imread('bead_pack.tif')"
   ]
  },
  {
   "cell_type": "markdown",
   "metadata": {
    "id": "eLQU6rysvkNM"
   },
   "source": [
    "## Read from NERSC\n",
    "- discard this portion if running in Colab"
   ]
  },
  {
   "cell_type": "code",
   "execution_count": null,
   "metadata": {},
   "outputs": [],
   "source": [
    "!ls $HOME"
   ]
  },
  {
   "cell_type": "code",
   "execution_count": null,
   "metadata": {
    "id": "ynDYMCuosjtW"
   },
   "outputs": [],
   "source": [
    "datapath = \"/global/homes/u/ushizima/notebooks_nersc/data/\" #update these values\n",
    "!ls -lt \"$datapath\""
   ]
  },
  {
   "cell_type": "markdown",
   "metadata": {
    "id": "k_kA76WbuNXL",
    "jp-MarkdownHeadingCollapsed": true,
    "tags": []
   },
   "source": [
    "## Read from Google drive \n",
    "- discard this portion if running at NERSC"
   ]
  },
  {
   "cell_type": "code",
   "execution_count": null,
   "metadata": {
    "id": "f3droixgrA42"
   },
   "outputs": [],
   "source": [
    "from google.colab import drive\n",
    "drive.mount('/content/drive')"
   ]
  },
  {
   "cell_type": "code",
   "execution_count": null,
   "metadata": {
    "id": "DaHyN6AcuMxD"
   },
   "outputs": [],
   "source": [
    "datapath = \"/content/drive/My Drive/Colab Notebooks/ALS User Meeting 2022 colab/data/\"\n",
    "!ls -lt \"$datapath\""
   ]
  },
  {
   "cell_type": "markdown",
   "metadata": {
    "id": "3Vgbd90U8Syl"
   },
   "source": [
    "## Common steps for NERSC and Colab"
   ]
  },
  {
   "cell_type": "code",
   "execution_count": null,
   "metadata": {
    "id": "_VOYXLV4HeVm"
   },
   "outputs": [],
   "source": [
    "image = io.imread(datapath+'bead_pack.tif')"
   ]
  },
  {
   "cell_type": "code",
   "execution_count": null,
   "metadata": {
    "id": "x0VqCZObsjn6"
   },
   "outputs": [],
   "source": [
    "#Check the size before plotting it\n",
    "print('-----------------------------------------------------------------------')\n",
    "print('Image shape is ',image.shape)\n",
    "print('@CenterSlice: min=',image.min(),',mean=',np.around(image.mean(),decimals=2),',max=',image.max())\n",
    "print('dtype = ',image.dtype)\n",
    "print('-----------------------------------------------------------------------')"
   ]
  },
  {
   "cell_type": "code",
   "execution_count": null,
   "metadata": {
    "id": "ZUVaBHEmxI-c"
   },
   "outputs": [],
   "source": [
    "#Visualize one slice chose at random\n",
    "import random\n",
    "nmax = image.shape[0]\n",
    "n = random.randint(0,nmax) # want a specific slice? change n \n",
    "plt.imshow(image[n,:,:])\n",
    "plt.title('Slice'+str(n))"
   ]
  },
  {
   "cell_type": "markdown",
   "metadata": {
    "id": "i9rkfOe8ym3n"
   },
   "source": [
    "# 2. How to read several tif files?\n",
    "- assuming you have a folder with several tif files\n",
    "- extension is tif and not tiff in this example"
   ]
  },
  {
   "cell_type": "code",
   "execution_count": null,
   "metadata": {
    "id": "s9xTFBlasjvu"
   },
   "outputs": [],
   "source": [
    "#Get the list of all files composing your stack\n",
    "from glob import glob\n",
    "extension = '*.tif'\n",
    "slices = glob(datapath+'concrete/'+extension)\n",
    "slices.sort()"
   ]
  },
  {
   "cell_type": "code",
   "execution_count": null,
   "metadata": {
    "id": "7KLIBkVizsNl"
   },
   "outputs": [],
   "source": [
    "print('Folder contains {} files'.format(len(slices)))"
   ]
  },
  {
   "cell_type": "code",
   "execution_count": null,
   "metadata": {
    "id": "1EagUjmKzsPo"
   },
   "outputs": [],
   "source": [
    "ic = io.ImageCollection(slices,conserve_memory=True) #well-suited for large collections "
   ]
  },
  {
   "cell_type": "code",
   "execution_count": null,
   "metadata": {
    "id": "2udE7EiTzsSJ"
   },
   "outputs": [],
   "source": [
    "nmax = len(slices)\n",
    "n = random.randint(0,nmax) # want a specific slice? change n \n",
    "plt.imshow(ic[n])\n",
    "plt.title('Slice'+str(n))\n",
    "plt.colorbar()\n",
    "ic[n].shape"
   ]
  },
  {
   "cell_type": "code",
   "execution_count": null,
   "metadata": {
    "id": "HDuT8tJbzsVG"
   },
   "outputs": [],
   "source": [
    "image2 = ic[0:10].concatenate()"
   ]
  },
  {
   "cell_type": "code",
   "execution_count": null,
   "metadata": {
    "id": "cNUZw7pQUdlE"
   },
   "outputs": [],
   "source": [
    "image2.shape"
   ]
  },
  {
   "cell_type": "code",
   "execution_count": null,
   "metadata": {
    "id": "8UWyicAQUdoG"
   },
   "outputs": [],
   "source": [
    "from sys import getsizeof\n",
    "print(\"Image size in mem: {}MB\".format(round(getsizeof(image2) / 1024 / 1024,2)))"
   ]
  },
  {
   "cell_type": "code",
   "execution_count": null,
   "metadata": {},
   "outputs": [],
   "source": []
  }
 ],
 "metadata": {
  "colab": {
   "collapsed_sections": [],
   "name": "01_getstarted.ipynb",
   "provenance": []
  },
  "kernelspec": {
   "display_name": "Python 3 (ipykernel)",
   "language": "python",
   "name": "python3"
  },
  "language_info": {
   "codemirror_mode": {
    "name": "ipython",
    "version": 3
   },
   "file_extension": ".py",
   "mimetype": "text/x-python",
   "name": "python",
   "nbconvert_exporter": "python",
   "pygments_lexer": "ipython3",
   "version": "3.9.13"
  },
  "toc": {
   "base_numbering": 1,
   "nav_menu": {},
   "number_sections": true,
   "sideBar": true,
   "skip_h1_title": false,
   "title_cell": "Table of Contents",
   "title_sidebar": "Contents",
   "toc_cell": false,
   "toc_position": {},
   "toc_section_display": true,
   "toc_window_display": false
  }
 },
 "nbformat": 4,
 "nbformat_minor": 4
}
