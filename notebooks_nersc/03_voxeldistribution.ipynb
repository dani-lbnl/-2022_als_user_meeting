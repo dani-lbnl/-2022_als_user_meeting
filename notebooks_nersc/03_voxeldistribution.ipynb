{
 "cells": [
  {
   "cell_type": "markdown",
   "metadata": {
    "id": "zQX_pbrqp4dD"
   },
   "source": [
    "# ALS User Meeting 2022\n",
    "This notebook describes methods to extract key information from microCT image stacks\n",
    "- Histograms\n",
    "- Alternative interactive tools and hist\n",
    "- Maximum intensity projection\n",
    "- Largest connected component\n",
    "\n",
    "Created by Dani Ushizima, CAMERA, LBNL - Aug 1st 2022\n"
   ]
  },
  {
   "cell_type": "code",
   "execution_count": null,
   "metadata": {
    "id": "ljQkOVVBp4dr"
   },
   "outputs": [],
   "source": [
    "%matplotlib inline"
   ]
  },
  {
   "cell_type": "code",
   "execution_count": null,
   "metadata": {
    "id": "rK8crVOZp4dt"
   },
   "outputs": [],
   "source": [
    "import numpy as np\n",
    "from scipy import ndimage as ndi\n",
    "import fnmatch,os\n",
    "import matplotlib.pyplot as plt\n",
    "from glob import glob\n",
    "\n",
    "from skimage import img_as_ubyte, filters, morphology, exposure, io"
   ]
  },
  {
   "cell_type": "markdown",
   "metadata": {
    "id": "h2gAaRFMp4dt"
   },
   "source": [
    "# 1. Read a microct image\n",
    "- from url\n",
    "- from NERSC\n",
    "- from Google drive"
   ]
  },
  {
   "cell_type": "markdown",
   "metadata": {
    "id": "eLQU6rysvkNM"
   },
   "source": [
    "## Read from NERSC\n",
    "- discard this portion if running in Colab"
   ]
  },
  {
   "cell_type": "code",
   "execution_count": null,
   "metadata": {
    "id": "ynDYMCuosjtW"
   },
   "outputs": [],
   "source": [
    "datapath = \"/global/homes/u/ushizima/notebooks_nersc/data/\" #update these values\n",
    "!ls -lt \"$datapath\""
   ]
  },
  {
   "cell_type": "code",
   "execution_count": null,
   "metadata": {
    "id": "6wUSe4qFibyk"
   },
   "outputs": [],
   "source": [
    "def loadFileNames(path,extension):\n",
    "  ''' Return filename after using colab files.upload - work for 1 file'''\n",
    "  fnames = glob(path+extension)\n",
    "  fnames.sort()\n",
    "  print(path);\n",
    "  print(f\"Number of files: {len(fnames)}\")\n",
    "  return fnames"
   ]
  },
  {
   "cell_type": "code",
   "execution_count": null,
   "metadata": {
    "id": "vCyRv4tziN8C"
   },
   "outputs": [],
   "source": [
    "extension = '*tif'\n",
    "files = loadFileNames(datapath+'concrete/',extension)"
   ]
  },
  {
   "cell_type": "markdown",
   "metadata": {
    "id": "i9rkfOe8ym3n"
   },
   "source": [
    "# 2. Image histograms\n",
    "- histogram of a single slice\n",
    "- histogram per slice for stack\n",
    "- histogram of full stack "
   ]
  },
  {
   "cell_type": "code",
   "execution_count": null,
   "metadata": {
    "id": "8UWyicAQUdoG"
   },
   "outputs": [],
   "source": [
    "def seeHistOneSlice(aSlice):\n",
    "        '''See the histogram of a particular slice after its masking, followed by enhancement'''\n",
    "        hist, hist_centers = exposure.histogram(aSlice)\n",
    "        fig, ax = plt.subplots(ncols=2, figsize=(10, 5))\n",
    "\n",
    "        ax[0].imshow(aSlice, cmap=plt.cm.gray, vmin=np.min(aSlice), vmax=np.max(aSlice))\n",
    "        ax[0].set_title('One Slice')\n",
    "        ax[0].axis('off')\n",
    "\n",
    "        ax[1].plot(hist_centers, hist, lw=2)\n",
    "        ax[1].set_title('Histogram of grey values')\n",
    "        ax[1].grid()\n",
    "\n",
    "        plt.tight_layout()"
   ]
  },
  {
   "cell_type": "code",
   "execution_count": null,
   "metadata": {
    "id": "69j1Mfi2mnWd"
   },
   "outputs": [],
   "source": [
    "n = 5\n",
    "aslice = io.imread(files[n])\n",
    "seeHistOneSlice(aslice)"
   ]
  },
  {
   "cell_type": "code",
   "execution_count": null,
   "metadata": {
    "id": "PRzLo9RwxJlL"
   },
   "outputs": [],
   "source": [
    "#Load full stack - if too large, you can modify functions below to read one slice at a time\n",
    "ic = io.ImageCollection(files,conserve_memory=True)\n",
    "fullstack = ic[0:10].concatenate()"
   ]
  },
  {
   "cell_type": "code",
   "execution_count": null,
   "metadata": {
    "id": "xrm-6zfMyVv_"
   },
   "outputs": [],
   "source": [
    "hist, hist_centers = exposure.histogram(fullstack)\n",
    "plt.plot(hist_centers, hist, lw=2)\n",
    "plt.title('Histogram for full stack')\n",
    "plt.grid()"
   ]
  },
  {
   "cell_type": "markdown",
   "metadata": {
    "id": "0OSRwfVnyWJ8"
   },
   "source": [
    "## What if visualizing hist per slice?"
   ]
  },
  {
   "cell_type": "code",
   "execution_count": null,
   "metadata": {
    "id": "BabOl-a8yRWp"
   },
   "outputs": [],
   "source": [
    "#Scroll through stack as with plotly, usually faster this way\n",
    "from ipywidgets import interact,IntSlider\n",
    "\n",
    "def slicer(z):\n",
    "    plt.imshow(fullstack[z,:,:], cmap='hot')"
   ]
  },
  {
   "cell_type": "code",
   "execution_count": null,
   "metadata": {
    "id": "yibMrDNUyquK"
   },
   "outputs": [],
   "source": [
    "maxz,_,_ = fullstack.shape\n",
    "interact(slicer, z=IntSlider(min=0, max=maxz, step=1, value=maxz//2));"
   ]
  },
  {
   "cell_type": "code",
   "execution_count": null,
   "metadata": {
    "id": "pLQIwf96zimW"
   },
   "outputs": [],
   "source": [
    "#Scroll through stack and visualize histogram\n",
    "def seeHistSlice(img,nslice):\n",
    "    subimage = img[nslice,:,:]\n",
    "    hist = np.histogram(subimage, bins=np.arange(subimage.min(), subimage.max()))\n",
    "\n",
    "    fig, ax = plt.subplots(ncols=2, figsize=(10, 5))\n",
    "\n",
    "    ax[0].imshow(subimage, interpolation='nearest', cmap=plt.cm.gray)\n",
    "    ax[0].axis('off')\n",
    "    ax[0].set_title('Slice #'+str(nslice))\n",
    "\n",
    "    ax[1].plot(hist[1][:-1], hist[0], lw=1)\n",
    "    ax[1].set_title('Histogram of gray values')\n",
    "    ax[1].grid()\n",
    "    plt.tight_layout()\n",
    "\n",
    "def slicingHist(b):\n",
    "    def slicer(z):\n",
    "        seeHistSlice(b,z)\n",
    "    interact(slicer, z=IntSlider(min=0,max=len(b)-1,step=1,value=len(b)//2));    "
   ]
  },
  {
   "cell_type": "code",
   "execution_count": null,
   "metadata": {
    "id": "UVL8RSc91vwV"
   },
   "outputs": [],
   "source": [
    "slicingHist(fullstack)"
   ]
  },
  {
   "cell_type": "markdown",
   "metadata": {
    "id": "B9pn4__0p4dx"
   },
   "source": [
    "# 3. Maximum Intensity Projection (MIP)\n",
    "[link paper](https://www.cambridge.org/core/journals/mrs-advances/article/abs/materials-data-science-for-microstructural-characterization-of-archaeological-concrete/AEB1323101655FEA3B166296F92708BC)"
   ]
  },
  {
   "cell_type": "code",
   "execution_count": null,
   "metadata": {
    "id": "HdgXCDGs4HZf"
   },
   "outputs": [],
   "source": [
    "def maxProjection(stack,ndown):\n",
    "        #max projection aka. z-max\n",
    "        IM_MAX = stack[0,::ndown,::ndown]\n",
    "        nslices,_,_ = stack.shape\n",
    "        for n in np.arange(1,nslices,ndown): #ndown here for low variation on Z\n",
    "            IM_MAX = np.maximum(IM_MAX, (stack[n,::ndown,::ndown]))\n",
    "        return IM_MAX    "
   ]
  },
  {
   "cell_type": "code",
   "execution_count": null,
   "metadata": {
    "id": "yYe92_n54Hcv"
   },
   "outputs": [],
   "source": [
    "maxProjectionfullstack = maxProjection(fullstack,ndown=1)\n",
    "plt.imshow(maxProjectionfullstack,cmap='plasma')\n",
    "plt.colorbar()"
   ]
  },
  {
   "cell_type": "code",
   "execution_count": null,
   "metadata": {
    "id": "x0CO1WWt4Hfg"
   },
   "outputs": [],
   "source": [
    "seeHistOneSlice(maxProjectionfullstack)"
   ]
  },
  {
   "cell_type": "code",
   "execution_count": null,
   "metadata": {
    "id": "gwSG4oPK5o4w"
   },
   "outputs": [],
   "source": [
    "plt.imshow(maxProjectionfullstack>100,cmap='gray')\n",
    "plt.title('Could we use it for masking the ROI?')"
   ]
  },
  {
   "cell_type": "markdown",
   "metadata": {
    "id": "xNcvhxbR7M_A"
   },
   "source": [
    "## Determine largest connected component\n",
    "- if slices have common center, MIP can help determine ROI\n",
    "- calculating a mask\n",
    "- masking a slice"
   ]
  },
  {
   "cell_type": "code",
   "execution_count": null,
   "metadata": {
    "id": "6gHWYrt_6HMW"
   },
   "outputs": [],
   "source": [
    "def getLargestCC(segments):\n",
    "        '''Return the largest connected component from image'''\n",
    "        labels = label(segments)\n",
    "        largestCC = labels == np.argmax(np.bincount(labels.flat, weights=segments.flat))\n",
    "        return largestCC"
   ]
  },
  {
   "cell_type": "code",
   "execution_count": null,
   "metadata": {
    "id": "0lzdUJTE6ru1"
   },
   "outputs": [],
   "source": [
    "lcc = getLargestCC(maxProjectionfullstack>100)"
   ]
  },
  {
   "cell_type": "code",
   "execution_count": null,
   "metadata": {
    "id": "rCt9qfnq6rsF"
   },
   "outputs": [],
   "source": [
    "plt.imshow(lcc,cmap='gray')"
   ]
  },
  {
   "cell_type": "code",
   "execution_count": null,
   "metadata": {
    "id": "Gn-zVcGC8tM0"
   },
   "outputs": [],
   "source": [
    "plt.imshow(aslice*lcc)\n",
    "plt.title('Mask slice using MIP')"
   ]
  },
  {
   "cell_type": "code",
   "execution_count": null,
   "metadata": {},
   "outputs": [],
   "source": []
  }
 ],
 "metadata": {
  "colab": {
   "collapsed_sections": [],
   "name": "03_voxeldistribution.ipynb",
   "provenance": []
  },
  "kernelspec": {
   "display_name": "Python 3 (ipykernel)",
   "language": "python",
   "name": "python3"
  },
  "language_info": {
   "codemirror_mode": {
    "name": "ipython",
    "version": 3
   },
   "file_extension": ".py",
   "mimetype": "text/x-python",
   "name": "python",
   "nbconvert_exporter": "python",
   "pygments_lexer": "ipython3",
   "version": "3.9.13"
  },
  "toc": {
   "base_numbering": 1,
   "nav_menu": {},
   "number_sections": true,
   "sideBar": true,
   "skip_h1_title": false,
   "title_cell": "Table of Contents",
   "title_sidebar": "Contents",
   "toc_cell": false,
   "toc_position": {},
   "toc_section_display": true,
   "toc_window_display": false
  }
 },
 "nbformat": 4,
 "nbformat_minor": 4
}
