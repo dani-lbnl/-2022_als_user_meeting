{
  "cells": [
    {
      "cell_type": "markdown",
      "metadata": {
        "id": "zQX_pbrqp4dD"
      },
      "source": [
        "# ALS User Meeting 2022\n",
        "This notebook describes methods to extract key information from microCT image stacks\n",
        "- Downscale: subsampling vs. downsampling\n",
        "- Multiscale pyramid\n",
        "- Morphological operators\n",
        "\n",
        "Created by Dani Ushizima, CAMERA, LBNL - Aug 1st 2022\n"
      ]
    },
    {
      "cell_type": "code",
      "execution_count": null,
      "metadata": {
        "id": "ljQkOVVBp4dr"
      },
      "outputs": [],
      "source": [
        "%matplotlib inline"
      ]
    },
    {
      "cell_type": "code",
      "execution_count": null,
      "metadata": {
        "id": "rK8crVOZp4dt"
      },
      "outputs": [],
      "source": [
        "import numpy as np\n",
        "from scipy import ndimage as ndi\n",
        "import fnmatch,os\n",
        "import matplotlib.pyplot as plt\n",
        "from glob import glob\n",
        "\n",
        "from skimage import img_as_ubyte, filters, morphology, exposure, io\n",
        "from skimage.filters import threshold_isodata\n",
        "from skimage.transform import pyramid_expand, pyramid_reduce, pyramid_gaussian\n",
        "from skimage.measure import regionprops,label\n"
      ]
    },
    {
      "cell_type": "markdown",
      "metadata": {
        "id": "h2gAaRFMp4dt"
      },
      "source": [
        "# 1. Read a microct image\n",
        "- from url\n",
        "- from NERSC\n",
        "- from Google drive"
      ]
    },
    {
      "cell_type": "markdown",
      "source": [
        "## Read from NERSC\n",
        "- discard this portion if running in Colab"
      ],
      "metadata": {
        "id": "eLQU6rysvkNM"
      }
    },
    {
      "cell_type": "code",
      "source": [
        "datapath = \"/global/cfs/cdirs/als/users/yourname/yourdata/\" #update these values\n",
        "!ls -lt \"$datapath\""
      ],
      "metadata": {
        "id": "ynDYMCuosjtW"
      },
      "execution_count": null,
      "outputs": []
    },
    {
      "cell_type": "code",
      "source": [
        "image = io.imread(datapath+'bead_pack.tif')"
      ],
      "metadata": {
        "id": "_VOYXLV4HeVm"
      },
      "execution_count": null,
      "outputs": []
    },
    {
      "cell_type": "markdown",
      "source": [
        "## Read from Google drive \n",
        "- discard this portion if running at NERSC"
      ],
      "metadata": {
        "id": "k_kA76WbuNXL"
      }
    },
    {
      "cell_type": "code",
      "source": [
        "from google.colab import drive\n",
        "drive.mount('/content/drive')"
      ],
      "metadata": {
        "id": "f3droixgrA42"
      },
      "execution_count": null,
      "outputs": []
    },
    {
      "cell_type": "code",
      "source": [
        "datapath = \"/content/drive/My Drive/Colab Notebooks/ALS User Meeting 2022 colab/data/\"\n",
        "!ls -lt \"$datapath\""
      ],
      "metadata": {
        "id": "DaHyN6AcuMxD"
      },
      "execution_count": null,
      "outputs": []
    },
    {
      "cell_type": "code",
      "source": [
        "def loadFileNames(path,extension):\n",
        "  ''' Return filename after using colab files.upload - work for 1 file'''\n",
        "  fnames = glob(path+extension)\n",
        "  fnames.sort()\n",
        "  print(path);\n",
        "  print(f\"Number of files: {len(fnames)}\")\n",
        "  return fnames"
      ],
      "metadata": {
        "id": "6wUSe4qFibyk"
      },
      "execution_count": null,
      "outputs": []
    },
    {
      "cell_type": "code",
      "source": [
        "files = loadFileNames(datapath+'concrete/','*tif')"
      ],
      "metadata": {
        "id": "vCyRv4tziN8C"
      },
      "execution_count": null,
      "outputs": []
    },
    {
      "cell_type": "markdown",
      "source": [
        "# 2. Subsampling\n",
        "- Get smaller portion of an original sample, created by trimming, subdividing, splitting or discrete collection of the original sample\n",
        "- Slicing numpy array using indexing tricks\n"
      ],
      "metadata": {
        "id": "i9rkfOe8ym3n"
      }
    },
    {
      "cell_type": "code",
      "source": [
        "n = 5\n",
        "aslice = io.imread(files[n])\n",
        "subsamp = 10\n",
        "aSmallerSlice1 = aslice[::subsamp,::subsamp]\n",
        "plt.imshow(aSmallerSlice1) #throw away every other *subsamp* row and column "
      ],
      "metadata": {
        "id": "iwz8hYeQO97V"
      },
      "execution_count": null,
      "outputs": []
    },
    {
      "cell_type": "code",
      "source": [
        "# Slice items starting from index \n",
        "plt.imshow(aslice[1000:,1000:])"
      ],
      "metadata": {
        "id": "WTqTu-ZPRxH5"
      },
      "execution_count": null,
      "outputs": []
    },
    {
      "cell_type": "markdown",
      "source": [
        "# 3. Downsampling\n",
        "- Reduce the sampling rate of (a signal) \n",
        "- Often associated to a strategy on combining pixel/voxel values during downscaling, e.g., average\n"
      ],
      "metadata": {
        "id": "G_pe8ImZOvFL"
      }
    },
    {
      "cell_type": "code",
      "source": [
        "aSmallerSlice2 = pyramid_reduce(aslice,downscale=10)\n",
        "plt.imshow(aSmallerSlice2)"
      ],
      "metadata": {
        "id": "69j1Mfi2mnWd"
      },
      "execution_count": null,
      "outputs": []
    },
    {
      "cell_type": "code",
      "source": [
        "def imshowcmp(before,after,lut='plasma'):\n",
        "    '''Show 2 images side by side'''\n",
        "    f, ax = plt.subplots(1, 2, figsize=(10, 10))\n",
        "    ax[0].imshow(before,cmap=lut)\n",
        "    ax[1].imshow(after,cmap=lut)"
      ],
      "metadata": {
        "id": "7fYvlWof_XY8"
      },
      "execution_count": null,
      "outputs": []
    },
    {
      "cell_type": "code",
      "source": [
        "imshowcmp(aSmallerSlice1,aSmallerSlice2,'gray')"
      ],
      "metadata": {
        "id": "phXU-0Z6_ZRm"
      },
      "execution_count": null,
      "outputs": []
    },
    {
      "cell_type": "markdown",
      "source": [
        "# 4. Image pyramids\n",
        "- yields successive images shrunk by a constant scale factor. Image pyramids are often used, e.g., to implement algorithms for denoising, texture discrimination, and scale-invariant detection\n",
        "- other examples [here](https://scikit-image.org/docs/stable/auto_examples/transform/plot_pyramid.html#sphx-glr-auto-examples-transform-plot-pyramid-py)\n"
      ],
      "metadata": {
        "id": "NFZQZ_C7CsAG"
      }
    },
    {
      "cell_type": "code",
      "source": [
        "rows, cols = aslice.shape\n",
        "pyramid = tuple(pyramid_gaussian(aslice, downscale=2))\n",
        "\n",
        "composite_image = np.zeros((rows, cols + cols // 2), dtype=np.double)\n",
        "\n",
        "composite_image[:rows, :cols] = pyramid[0]\n",
        "\n",
        "i_row = 0\n",
        "for p in pyramid[1:]:\n",
        "    n_rows, n_cols = p.shape[:2]\n",
        "    composite_image[i_row:i_row + n_rows, cols:cols + n_cols] = p\n",
        "    i_row += n_rows\n",
        "\n",
        "fig, ax = plt.subplots(figsize=(10, 10))\n",
        "ax.imshow(composite_image)"
      ],
      "metadata": {
        "id": "uK4m40wgFdwy"
      },
      "execution_count": null,
      "outputs": []
    }
  ],
  "metadata": {
    "kernelspec": {
      "display_name": "Python 3",
      "language": "python",
      "name": "python3"
    },
    "language_info": {
      "codemirror_mode": {
        "name": "ipython",
        "version": 3
      },
      "file_extension": ".py",
      "mimetype": "text/x-python",
      "name": "python",
      "nbconvert_exporter": "python",
      "pygments_lexer": "ipython3",
      "version": "3.7.7"
    },
    "toc": {
      "base_numbering": 1,
      "nav_menu": {},
      "number_sections": true,
      "sideBar": true,
      "skip_h1_title": false,
      "title_cell": "Table of Contents",
      "title_sidebar": "Contents",
      "toc_cell": false,
      "toc_position": {},
      "toc_section_display": true,
      "toc_window_display": false
    },
    "colab": {
      "name": "05_multiscale.ipynb",
      "provenance": [],
      "collapsed_sections": []
    }
  },
  "nbformat": 4,
  "nbformat_minor": 0
}