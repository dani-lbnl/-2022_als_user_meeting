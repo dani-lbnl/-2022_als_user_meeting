{
  "cells": [
    {
      "cell_type": "markdown",
      "metadata": {
        "id": "zQX_pbrqp4dD"
      },
      "source": [
        "# ALS User Meeting 2022\n",
        "This notebook describes methods to extract key information from microCT image stacks\n",
        "- Read images from different sources\n",
        "- Show slices of a ndarray\n",
        "- Plot a slice at random\n",
        "- Determine stack size \n",
        "\n",
        "Created by Dani Ushizima, CAMERA, LBNL - Aug 1st 2022\n"
      ]
    },
    {
      "cell_type": "code",
      "execution_count": null,
      "metadata": {
        "id": "ljQkOVVBp4dr"
      },
      "outputs": [],
      "source": [
        "%matplotlib inline"
      ]
    },
    {
      "cell_type": "code",
      "execution_count": null,
      "metadata": {
        "id": "rK8crVOZp4dt"
      },
      "outputs": [],
      "source": [
        "import numpy as np\n",
        "import matplotlib.pyplot as plt\n",
        "from skimage import img_as_ubyte, io\n"
      ]
    },
    {
      "cell_type": "markdown",
      "metadata": {
        "id": "h2gAaRFMp4dt"
      },
      "source": [
        "# 1. Read a microct image\n",
        "- from url\n",
        "- from NERSC\n",
        "- from Google drive"
      ]
    },
    {
      "cell_type": "markdown",
      "source": [
        "## Read from the web"
      ],
      "metadata": {
        "id": "eo7wVMt_HPfX"
      }
    },
    {
      "cell_type": "code",
      "source": [
        "#Get an image stack given a url\n",
        "!wget https://github.com/dani-lbnl/imagexd19/blob/master/dip/data/bead_pack.tif?raw=true\n",
        "!mv bead_pack.tif?raw=true bead_pack.tif"
      ],
      "metadata": {
        "id": "3tvQCi7Sq7ea"
      },
      "execution_count": null,
      "outputs": []
    },
    {
      "cell_type": "code",
      "source": [
        "#Double-check you got the image\n",
        "!ls *.tif"
      ],
      "metadata": {
        "id": "XhCJ2I3dsVkV"
      },
      "execution_count": null,
      "outputs": []
    },
    {
      "cell_type": "code",
      "source": [
        "#Load the image\n",
        "image = io.imread('bead_pack.tif')"
      ],
      "metadata": {
        "id": "dij30xmFsjlI"
      },
      "execution_count": null,
      "outputs": []
    },
    {
      "cell_type": "markdown",
      "source": [
        "## Read from NERSC\n",
        "- discard this portion if running in Colab"
      ],
      "metadata": {
        "id": "eLQU6rysvkNM"
      }
    },
    {
      "cell_type": "code",
      "source": [
        "datapath = \"/global/cfs/cdirs/als/users/yourname/yourdata/\" #update these values\n",
        "!ls -lt \"$datapath\""
      ],
      "metadata": {
        "id": "ynDYMCuosjtW"
      },
      "execution_count": null,
      "outputs": []
    },
    {
      "cell_type": "markdown",
      "source": [
        "## Read from Google drive \n",
        "- discard this portion if running at NERSC"
      ],
      "metadata": {
        "id": "k_kA76WbuNXL"
      }
    },
    {
      "cell_type": "code",
      "source": [
        "from google.colab import drive\n",
        "drive.mount('/content/drive')"
      ],
      "metadata": {
        "id": "f3droixgrA42"
      },
      "execution_count": null,
      "outputs": []
    },
    {
      "cell_type": "code",
      "source": [
        "datapath = \"/content/drive/My Drive/Colab Notebooks/ALS User Meeting 2022 colab/data/\"\n",
        "!ls -lt \"$datapath\""
      ],
      "metadata": {
        "id": "DaHyN6AcuMxD"
      },
      "execution_count": null,
      "outputs": []
    },
    {
      "cell_type": "markdown",
      "source": [
        "## Common steps for NERSC and Colab"
      ],
      "metadata": {
        "id": "3Vgbd90U8Syl"
      }
    },
    {
      "cell_type": "code",
      "source": [
        "image = io.imread(datapath+'bead_pack.tif')"
      ],
      "metadata": {
        "id": "_VOYXLV4HeVm"
      },
      "execution_count": null,
      "outputs": []
    },
    {
      "cell_type": "code",
      "source": [
        "#Check the size before plotting it\n",
        "print('-----------------------------------------------------------------------')\n",
        "print('Image shape is ',image.shape)\n",
        "print('@CenterSlice: min=',image.min(),',mean=',np.around(image.mean(),decimals=2),',max=',image.max())\n",
        "print('dtype = ',image.dtype)\n",
        "print('-----------------------------------------------------------------------')"
      ],
      "metadata": {
        "id": "x0VqCZObsjn6"
      },
      "execution_count": null,
      "outputs": []
    },
    {
      "cell_type": "code",
      "source": [
        "#Visualize one slice chose at random\n",
        "import random\n",
        "nmax = image.shape[0]\n",
        "n = random.randint(0,nmax) # want a specific slice? change n \n",
        "plt.imshow(image[n,:,:])\n",
        "plt.title('Slice'+str(n))"
      ],
      "metadata": {
        "id": "ZUVaBHEmxI-c"
      },
      "execution_count": null,
      "outputs": []
    },
    {
      "cell_type": "markdown",
      "source": [
        "# 2. How to read several tif files?\n",
        "- assuming you have a folder with several tif files\n",
        "- extension is tif and not tiff in this example"
      ],
      "metadata": {
        "id": "i9rkfOe8ym3n"
      }
    },
    {
      "cell_type": "code",
      "source": [
        "#Get the list of all files composing your stack\n",
        "from glob import glob\n",
        "extension = '*.tif'\n",
        "slices = glob(datapath+'concrete/'+extension)\n",
        "slices.sort()"
      ],
      "metadata": {
        "id": "s9xTFBlasjvu"
      },
      "execution_count": null,
      "outputs": []
    },
    {
      "cell_type": "code",
      "source": [
        "print('Folder contains {} files'.format(len(slices)))"
      ],
      "metadata": {
        "id": "7KLIBkVizsNl"
      },
      "execution_count": null,
      "outputs": []
    },
    {
      "cell_type": "code",
      "source": [
        "ic = io.ImageCollection(slices,conserve_memory=True) #well-suited for large collections "
      ],
      "metadata": {
        "id": "1EagUjmKzsPo"
      },
      "execution_count": null,
      "outputs": []
    },
    {
      "cell_type": "code",
      "source": [
        "nmax = len(slices)\n",
        "n = random.randint(0,nmax) # want a specific slice? change n \n",
        "plt.imshow(ic[n])\n",
        "plt.title('Slice'+str(n))\n",
        "plt.colorbar()\n",
        "ic[n].shape"
      ],
      "metadata": {
        "id": "2udE7EiTzsSJ"
      },
      "execution_count": null,
      "outputs": []
    },
    {
      "cell_type": "code",
      "source": [
        "image2 = ic[0:10].concatenate()"
      ],
      "metadata": {
        "id": "HDuT8tJbzsVG"
      },
      "execution_count": null,
      "outputs": []
    },
    {
      "cell_type": "code",
      "source": [
        "image2.shape"
      ],
      "metadata": {
        "id": "cNUZw7pQUdlE"
      },
      "execution_count": null,
      "outputs": []
    },
    {
      "cell_type": "code",
      "source": [
        "from sys import getsizeof\n",
        "print(\"Image size in mem: {}MB\".format(round(getsizeof(image2) / 1024 / 1024,2)))"
      ],
      "metadata": {
        "id": "8UWyicAQUdoG"
      },
      "execution_count": null,
      "outputs": []
    }
  ],
  "metadata": {
    "kernelspec": {
      "display_name": "Python 3",
      "language": "python",
      "name": "python3"
    },
    "language_info": {
      "codemirror_mode": {
        "name": "ipython",
        "version": 3
      },
      "file_extension": ".py",
      "mimetype": "text/x-python",
      "name": "python",
      "nbconvert_exporter": "python",
      "pygments_lexer": "ipython3",
      "version": "3.7.7"
    },
    "toc": {
      "base_numbering": 1,
      "nav_menu": {},
      "number_sections": true,
      "sideBar": true,
      "skip_h1_title": false,
      "title_cell": "Table of Contents",
      "title_sidebar": "Contents",
      "toc_cell": false,
      "toc_position": {},
      "toc_section_display": true,
      "toc_window_display": false
    },
    "colab": {
      "name": "01_getstarted.ipynb",
      "provenance": [],
      "collapsed_sections": []
    }
  },
  "nbformat": 4,
  "nbformat_minor": 0
}